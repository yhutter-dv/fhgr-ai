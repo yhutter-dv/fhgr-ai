{
 "cells": [
  {
   "cell_type": "markdown",
   "metadata": {},
   "source": [
    "# Navier Bayes (mit Worthäufigkeiten)"
   ]
  },
  {
   "cell_type": "code",
   "execution_count": null,
   "metadata": {},
   "outputs": [],
   "source": [
    "import pandas as pd\n",
    "\n",
    "# Daten von: https://www.kaggle.com/uciml/sms-spam-collection-dataset\n",
    "# Aufbereitet wie folgt:\n",
    "#  - 2 \"Unnamed\" Spalten entfernt\n",
    "#  - Kodierung auf utf-8 geändert\n",
    "#  - Spalten unbenannt\n",
    "\n",
    "df = pd.read_csv(\"../spam.csv\")\n",
    "\n",
    "df.head()"
   ]
  },
  {
   "cell_type": "code",
   "execution_count": null,
   "metadata": {},
   "outputs": [],
   "source": [
    "print(len(df))"
   ]
  },
  {
   "cell_type": "code",
   "execution_count": null,
   "metadata": {},
   "outputs": [],
   "source": [
    "#um mehr zu sehen, muss man etwas tricksen....\n",
    "pd.set_option('display.max_colwidth', None)\n",
    "df.loc[50:70,:]"
   ]
  },
  {
   "cell_type": "code",
   "execution_count": null,
   "metadata": {},
   "outputs": [],
   "source": [
    "from sklearn.model_selection import train_test_split\n",
    "from sklearn.feature_extraction.text import CountVectorizer\n",
    "from sklearn.feature_extraction.text import TfidfVectorizer\n",
    "\n",
    "X = df[\"message\"]\n",
    "y = df[\"type\"]\n",
    "X_train, X_test, y_train, y_test = train_test_split(X, y, random_state = 0)\n"
   ]
  },
  {
   "cell_type": "code",
   "execution_count": null,
   "metadata": {},
   "outputs": [],
   "source": [
    "print(X.to_string())\n"
   ]
  },
  {
   "cell_type": "code",
   "execution_count": null,
   "metadata": {},
   "outputs": [],
   "source": [
    "#Anzeigen  der Klassenzuordnung\n",
    "print(X_train)"
   ]
  },
  {
   "cell_type": "code",
   "execution_count": null,
   "metadata": {},
   "outputs": [],
   "source": [
    "#Jetzt wird eine Invertierung durchgeführt. Alle Worte werden \n",
    "#werden bestimmt. Matrix: Welches Wort kommt in welchem Text vor. \n",
    "# Achtung!!! - Beis Wiederholungen immer den Train-Text-Split neu ausführen!!!\n",
    "#cv = CountVectorizer()\n",
    "#Der Count Vectorizer kann limitieren: \n",
    "#cv = CountVectorizer(min_df = 0.001, max_df = 0.25)\n",
    "#cv = CountVectorizer(max_features = 7000)\n",
    "# Statt einer \"Zählmatrix kann man das Termgewichtungsmodell TFIDF nehmen\"\n",
    "#cv = TfidfVectorizer() #ist aber nicht besser!!!\n",
    "cv.fit(X_train)\n",
    "X_train = cv.transform(X_train)\n",
    "X_test = cv.transform(X_test)"
   ]
  },
  {
   "cell_type": "code",
   "execution_count": null,
   "metadata": {},
   "outputs": [],
   "source": [
    "#Wieviele Zeilen und Spalten hat die Matrix\n",
    "print(X_test.shape)"
   ]
  },
  {
   "cell_type": "code",
   "execution_count": null,
   "metadata": {},
   "outputs": [],
   "source": [
    "print(X_train)"
   ]
  },
  {
   "cell_type": "code",
   "execution_count": null,
   "metadata": {},
   "outputs": [],
   "source": [
    "cv.get_feature_names()\n"
   ]
  },
  {
   "cell_type": "code",
   "execution_count": null,
   "metadata": {},
   "outputs": [],
   "source": [
    "cv.vocabulary_"
   ]
  },
  {
   "cell_type": "code",
   "execution_count": null,
   "metadata": {},
   "outputs": [],
   "source": [
    "#Auf die Term-Dokument-Matrix wird der Multinomilale Naive Bayes angewendet\n",
    "from sklearn.naive_bayes import MultinomialNB\n",
    "model = MultinomialNB()\n",
    "model.fit(X_train, y_train)\n",
    "print(model.score(X_test, y_test))"
   ]
  },
  {
   "cell_type": "code",
   "execution_count": null,
   "metadata": {},
   "outputs": [],
   "source": [
    "# Wie können wir das Modell anwenden?\n",
    "cv?"
   ]
  },
  {
   "cell_type": "code",
   "execution_count": null,
   "metadata": {},
   "outputs": [],
   "source": [
    "corpus = [\n",
    "'This is the first document.',\n",
    "'happy hour and get a drink for free and 30% off ',\n",
    "'Congrats you won a special price',\n",
    "'Free entry in 2 a wkly comp to win FA Cup',\n",
    "'This is fucking bullshit',\n",
    "    'Hello my friend, how are you?',\n",
    "    'You have won our special discount'\n",
    "]\n",
    "\n",
    "frage = cv.transform(corpus)\n",
    "frage"
   ]
  },
  {
   "cell_type": "code",
   "execution_count": null,
   "metadata": {},
   "outputs": [],
   "source": [
    "model.predict(frage)"
   ]
  },
  {
   "cell_type": "code",
   "execution_count": null,
   "metadata": {},
   "outputs": [],
   "source": []
  }
 ],
 "metadata": {
  "kernelspec": {
   "display_name": "Python 3 (ipykernel)",
   "language": "python",
   "name": "python3"
  },
  "language_info": {
   "codemirror_mode": {
    "name": "ipython",
    "version": 3
   },
   "file_extension": ".py",
   "mimetype": "text/x-python",
   "name": "python",
   "nbconvert_exporter": "python",
   "pygments_lexer": "ipython3",
   "version": "3.9.13"
  }
 },
 "nbformat": 4,
 "nbformat_minor": 2
}

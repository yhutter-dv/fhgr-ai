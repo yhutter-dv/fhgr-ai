{
 "cells": [
  {
   "cell_type": "markdown",
   "metadata": {},
   "source": [
    "# Die ROC-Curve - Beurteilung binärer Classifier\n",
    "### Einführungsbeispiel"
   ]
  },
  {
   "cell_type": "code",
   "execution_count": 46,
   "metadata": {},
   "outputs": [
    {
     "name": "stdout",
     "output_type": "stream",
     "text": [
      "Das Modell sagt: [False False  True False  True  True  True  True  True  True]\n",
      "Tatsächlich:     [False False False False False  True  True  True  True  True]\n"
     ]
    },
    {
     "data": {
      "image/png": "[encoded data removed]",
      "text/plain": [
       "<Figure size 640x480 with 1 Axes>"
      ]
     },
     "metadata": {},
     "output_type": "display_data"
    }
   ],
   "source": [
    "import numpy as np\n",
    "from sklearn import metrics\n",
    "#Die tatsächliche Klassenzugehörigkeit (also 0 oder 1) ist hier wiedergegeben:\n",
    "y = np.array([0,0,0,0,0,1,1,1,1,1]) \n",
    "# Gegeben seien Vorhersagen eines Modells: 0.5 sei die Entscheidungsgrenze: \n",
    "scores = np.array([0.45, 0.43, 0.55, 0.45, 0.55, 0.55, 0.6, 0.52, 0.51, 0.6])\n",
    "y_test_pred = (scores >= 0.5)\n",
    "print('Das Modell sagt: ' + str(y_test_pred))\n",
    "print('Tatsächlich:     ' + str(y == 1))\n",
    "# ...um 0.5 herum gibt es also FP's und FN's, was mit der ROC-Curve gezeigt wird:\n",
    "fpr, tpr, thresholds = metrics.roc_curve(y, scores, pos_label=1)\n",
    "%matplotlib inline\n",
    "import matplotlib.pyplot as plt\n",
    "plt.plot(fpr, tpr)\n",
    "plt.show()"
   ]
  },
  {
   "cell_type": "code",
   "execution_count": 47,
   "metadata": {},
   "outputs": [
    {
     "data": {
      "image/png": "[encoded data removed]",
      "text/plain": [
       "<Figure size 640x480 with 2 Axes>"
      ]
     },
     "metadata": {},
     "output_type": "display_data"
    }
   ],
   "source": [
    "import pandas as pd\n",
    "# Schöner in Seaborn.....\n",
    "import seaborn as sn\n",
    "import matplotlib.pyplot as plt\n",
    "# y: tatsächlich              \n",
    "conf_mat = pd.crosstab(y, y_test_pred, rownames=['Actual'], colnames=['Predicted'])\n",
    "sn.heatmap(conf_mat, annot=True)\n",
    "plt.show()"
   ]
  },
  {
   "cell_type": "code",
   "execution_count": null,
   "metadata": {},
   "outputs": [],
   "source": []
  },
  {
   "cell_type": "markdown",
   "metadata": {},
   "source": [
    "### Die ROC-Curve an einem Beispiel-Modell"
   ]
  },
  {
   "cell_type": "code",
   "execution_count": 48,
   "metadata": {},
   "outputs": [
    {
     "data": {
      "text/plain": [
       "891"
      ]
     },
     "execution_count": 48,
     "metadata": {},
     "output_type": "execute_result"
    }
   ],
   "source": [
    "import pandas as pd\n",
    "\n",
    "df = pd.read_csv(\"../classification.csv\")\n",
    "\n",
    "# Wenn du ein paar Spalten vorab aus den Daten entfernen\n",
    "# df = df.drop(\"Spaltenname\", axis = 1)\n",
    "\n",
    "# Wenn du eine kategorische Variable in mehrere Spalten umwandeln\n",
    "# möchtest, kannst du das mit folgendem Code tun:\n",
    "# df = pd.get_dummies(df, columns = [\"Spaltenname\"])\n",
    "\n",
    "df.size"
   ]
  },
  {
   "cell_type": "code",
   "execution_count": 49,
   "metadata": {},
   "outputs": [],
   "source": [
    "from sklearn.model_selection import train_test_split\n",
    "\n",
    "# Welche Spalten sollen zur Vorhersage verwendet werden\n",
    "X = df[[\"age\", \"interest\"]].values\n",
    "\n",
    "# Oder: Die Spalte \"success\" soll nicht zur Vorhersage verwendet werden:\n",
    "# X = df.drop(\"success\", axis = 1).values\n",
    "\n",
    "y = df[\"success\"].values\n",
    "\n",
    "X_train, X_test, y_train, y_test = train_test_split(X, y, random_state = 0, test_size = 0.25)"
   ]
  },
  {
   "cell_type": "code",
   "execution_count": 50,
   "metadata": {},
   "outputs": [
    {
     "name": "stdout",
     "output_type": "stream",
     "text": [
      "0.8933333333333333\n"
     ]
    }
   ],
   "source": [
    "### Achtung!!! - Entweder Naiver-Bayes oder....\n",
    "from sklearn.naive_bayes import GaussianNB\n",
    "model = GaussianNB()\n",
    "model.fit(X_train, y_train)\n",
    "print(model.score(X_test, y_test))"
   ]
  },
  {
   "cell_type": "code",
   "execution_count": 51,
   "metadata": {},
   "outputs": [
    {
     "name": "stdout",
     "output_type": "stream",
     "text": [
      "0.88\n"
     ]
    }
   ],
   "source": [
    "### Achtung!!! - ....oder Logistic Regression ausführen...\n",
    "from sklearn.preprocessing import StandardScaler\n",
    "\n",
    "scaler = StandardScaler()\n",
    "scaler.fit(X_train)\n",
    "\n",
    "X_train = scaler.transform(X_train)\n",
    "X_test = scaler.transform(X_test)\n",
    "\n",
    "from sklearn.linear_model import LogisticRegression\n",
    "\n",
    "model = LogisticRegression()\n",
    "model.fit(X_train, y_train)\n",
    "print(model.score(X_test, y_test))"
   ]
  },
  {
   "cell_type": "code",
   "execution_count": 52,
   "metadata": {},
   "outputs": [
    {
     "data": {
      "text/plain": [
       "array([1., 0., 0., 1., 1., 0., 0., 1., 1., 1., 1., 1., 0., 1., 1., 1., 0.,\n",
       "       0., 0., 1., 1., 1., 0., 1., 0., 0., 1., 0., 1., 1., 0., 1., 0., 0.,\n",
       "       1., 1., 0., 1., 0., 1., 0., 0., 1., 1., 1., 1., 1., 1., 0., 1., 1.,\n",
       "       1., 1., 0., 1., 0., 1., 1., 0., 0., 0., 0., 1., 1., 1., 0., 1., 0.,\n",
       "       1., 1., 0., 1., 0., 1., 1.])"
      ]
     },
     "execution_count": 52,
     "metadata": {},
     "output_type": "execute_result"
    }
   ],
   "source": [
    "y_pred = model.predict(X_test)\n",
    "# das liefert aber nur 0en und 1en\n",
    "y_pred"
   ]
  },
  {
   "cell_type": "code",
   "execution_count": 53,
   "metadata": {},
   "outputs": [
    {
     "data": {
      "text/plain": [
       "array([[1.25595404e-02, 9.87440460e-01],\n",
       "       [6.10380649e-01, 3.89619351e-01],\n",
       "       [9.72533933e-01, 2.74660672e-02],\n",
       "       [1.98448261e-01, 8.01551739e-01],\n",
       "       [6.40542186e-03, 9.93594578e-01],\n",
       "       [9.75421957e-01, 2.45780428e-02],\n",
       "       [8.74018975e-01, 1.25981025e-01],\n",
       "       [6.83273872e-03, 9.93167261e-01],\n",
       "       [7.78860916e-04, 9.99221139e-01],\n",
       "       [1.70143558e-01, 8.29856442e-01],\n",
       "       [4.45445307e-01, 5.54554693e-01],\n",
       "       [6.47658355e-02, 9.35234165e-01],\n",
       "       [9.11798657e-01, 8.82013432e-02],\n",
       "       [1.23242768e-02, 9.87675723e-01],\n",
       "       [3.38135697e-04, 9.99661864e-01],\n",
       "       [6.73062376e-03, 9.93269376e-01],\n",
       "       [8.32996118e-01, 1.67003882e-01],\n",
       "       [9.77459935e-01, 2.25400651e-02],\n",
       "       [8.32317782e-01, 1.67682218e-01],\n",
       "       [3.76675892e-02, 9.62332411e-01],\n",
       "       [9.40378787e-02, 9.05962121e-01],\n",
       "       [2.87091972e-03, 9.97129080e-01],\n",
       "       [8.38361290e-01, 1.61638710e-01],\n",
       "       [1.95131930e-01, 8.04868070e-01],\n",
       "       [7.68021393e-01, 2.31978607e-01],\n",
       "       [6.89747444e-01, 3.10252556e-01],\n",
       "       [2.46277256e-01, 7.53722744e-01],\n",
       "       [6.79377695e-01, 3.20622305e-01],\n",
       "       [1.41931767e-03, 9.98580682e-01],\n",
       "       [1.10748436e-02, 9.88925156e-01],\n",
       "       [8.15804746e-01, 1.84195254e-01],\n",
       "       [4.67597955e-01, 5.32402045e-01],\n",
       "       [7.73816728e-01, 2.26183272e-01],\n",
       "       [9.13341425e-01, 8.66585752e-02],\n",
       "       [1.55638065e-01, 8.44361935e-01],\n",
       "       [5.77189270e-03, 9.94228107e-01],\n",
       "       [9.45086461e-01, 5.49135387e-02],\n",
       "       [4.76302667e-01, 5.23697333e-01],\n",
       "       [6.66768013e-01, 3.33231987e-01],\n",
       "       [5.55067710e-03, 9.94449323e-01],\n",
       "       [7.42864159e-01, 2.57135841e-01],\n",
       "       [9.95201268e-01, 4.79873195e-03],\n",
       "       [2.34896194e-01, 7.65103806e-01],\n",
       "       [2.55035775e-02, 9.74496422e-01],\n",
       "       [2.33220921e-02, 9.76677908e-01],\n",
       "       [1.84758163e-02, 9.81524184e-01],\n",
       "       [4.97995036e-02, 9.50200496e-01],\n",
       "       [1.48008047e-01, 8.51991953e-01],\n",
       "       [5.97882544e-01, 4.02117456e-01],\n",
       "       [1.42301880e-02, 9.85769812e-01],\n",
       "       [4.27920029e-01, 5.72079971e-01],\n",
       "       [8.55145126e-02, 9.14485487e-01],\n",
       "       [9.15406800e-03, 9.90845932e-01],\n",
       "       [9.47023996e-01, 5.29760041e-02],\n",
       "       [5.12294804e-02, 9.48770520e-01],\n",
       "       [7.79453966e-01, 2.20546034e-01],\n",
       "       [4.58549749e-01, 5.41450251e-01],\n",
       "       [1.56561472e-03, 9.98434385e-01],\n",
       "       [6.61661210e-01, 3.38338790e-01],\n",
       "       [9.97257196e-01, 2.74280352e-03],\n",
       "       [9.97794335e-01, 2.20566477e-03],\n",
       "       [9.64769114e-01, 3.52308860e-02],\n",
       "       [1.25786679e-01, 8.74213321e-01],\n",
       "       [4.02311737e-01, 5.97688263e-01],\n",
       "       [3.50696516e-01, 6.49303484e-01],\n",
       "       [8.35210010e-01, 1.64789990e-01],\n",
       "       [1.17179665e-02, 9.88282033e-01],\n",
       "       [6.82509342e-01, 3.17490658e-01],\n",
       "       [1.56358745e-02, 9.84364126e-01],\n",
       "       [5.89884039e-03, 9.94101160e-01],\n",
       "       [9.57805410e-01, 4.21945899e-02],\n",
       "       [3.21282814e-01, 6.78717186e-01],\n",
       "       [9.98134384e-01, 1.86561627e-03],\n",
       "       [4.48952735e-02, 9.55104727e-01],\n",
       "       [2.95085068e-02, 9.70491493e-01]])"
      ]
     },
     "execution_count": 53,
     "metadata": {},
     "output_type": "execute_result"
    }
   ],
   "source": [
    "#predict_proba() liefert nun Wahrscheinlichkeitswerte\n",
    "#[....[Wahrscheinlichkeit0,  Wahrscheinlichkeit1], ....]\n",
    "model.predict_proba(X_test)"
   ]
  },
  {
   "cell_type": "code",
   "execution_count": 54,
   "metadata": {},
   "outputs": [],
   "source": [
    "\n",
    "y_test_pred = model.predict_proba(X_test)[:, 1]"
   ]
  },
  {
   "cell_type": "code",
   "execution_count": 55,
   "metadata": {},
   "outputs": [
    {
     "data": {
      "text/plain": [
       "array([0.98744046, 0.38961935, 0.02746607, 0.80155174, 0.99359458,\n",
       "       0.02457804, 0.12598102, 0.99316726, 0.99922114, 0.82985644,\n",
       "       0.55455469, 0.93523416, 0.08820134, 0.98767572, 0.99966186,\n",
       "       0.99326938, 0.16700388, 0.02254007, 0.16768222, 0.96233241,\n",
       "       0.90596212, 0.99712908, 0.16163871, 0.80486807, 0.23197861,\n",
       "       0.31025256, 0.75372274, 0.3206223 , 0.99858068, 0.98892516,\n",
       "       0.18419525, 0.53240205, 0.22618327, 0.08665858, 0.84436194,\n",
       "       0.99422811, 0.05491354, 0.52369733, 0.33323199, 0.99444932,\n",
       "       0.25713584, 0.00479873, 0.76510381, 0.97449642, 0.97667791,\n",
       "       0.98152418, 0.9502005 , 0.85199195, 0.40211746, 0.98576981,\n",
       "       0.57207997, 0.91448549, 0.99084593, 0.052976  , 0.94877052,\n",
       "       0.22054603, 0.54145025, 0.99843439, 0.33833879, 0.0027428 ,\n",
       "       0.00220566, 0.03523089, 0.87421332, 0.59768826, 0.64930348,\n",
       "       0.16478999, 0.98828203, 0.31749066, 0.98436413, 0.99410116,\n",
       "       0.04219459, 0.67871719, 0.00186562, 0.95510473, 0.97049149])"
      ]
     },
     "execution_count": 55,
     "metadata": {},
     "output_type": "execute_result"
    }
   ],
   "source": [
    "y_test_pred"
   ]
  },
  {
   "cell_type": "code",
   "execution_count": 56,
   "metadata": {},
   "outputs": [],
   "source": [
    "from sklearn.metrics import roc_curve, roc_auc_score\n",
    "fpr, tpr, thresholds = roc_curve(y_test, y_test_pred, pos_label=1)\n"
   ]
  },
  {
   "cell_type": "code",
   "execution_count": 57,
   "metadata": {},
   "outputs": [
    {
     "data": {
      "text/plain": [
       "array([0.        , 0.        , 0.        , 0.02702703, 0.02702703,\n",
       "       0.05405405, 0.05405405, 0.08108108, 0.08108108, 0.10810811,\n",
       "       0.10810811, 0.21621622, 0.21621622, 0.37837838, 0.37837838,\n",
       "       1.        ])"
      ]
     },
     "execution_count": 57,
     "metadata": {},
     "output_type": "execute_result"
    }
   ],
   "source": [
    "fpr"
   ]
  },
  {
   "cell_type": "code",
   "execution_count": 58,
   "metadata": {},
   "outputs": [
    {
     "data": {
      "text/plain": [
       "array([0.        , 0.02631579, 0.57894737, 0.57894737, 0.60526316,\n",
       "       0.60526316, 0.81578947, 0.81578947, 0.89473684, 0.89473684,\n",
       "       0.94736842, 0.94736842, 0.97368421, 0.97368421, 1.        ,\n",
       "       1.        ])"
      ]
     },
     "execution_count": 58,
     "metadata": {},
     "output_type": "execute_result"
    }
   ],
   "source": [
    "tpr"
   ]
  },
  {
   "cell_type": "code",
   "execution_count": 59,
   "metadata": {},
   "outputs": [
    {
     "data": {
      "text/plain": [
       "array([       inf, 0.99966186, 0.97049149, 0.96233241, 0.95510473,\n",
       "       0.9502005 , 0.82985644, 0.80486807, 0.75372274, 0.67871719,\n",
       "       0.59768826, 0.53240205, 0.52369733, 0.31749066, 0.31025256,\n",
       "       0.00186562])"
      ]
     },
     "execution_count": 59,
     "metadata": {},
     "output_type": "execute_result"
    }
   ],
   "source": [
    "thresholds"
   ]
  },
  {
   "cell_type": "code",
   "execution_count": 60,
   "metadata": {},
   "outputs": [
    {
     "data": {
      "image/png": "[encoded data removed]",
      "text/plain": [
       "<Figure size 640x480 with 1 Axes>"
      ]
     },
     "metadata": {},
     "output_type": "display_data"
    }
   ],
   "source": [
    "%matplotlib inline\n",
    "import matplotlib.pyplot as plt\n",
    "plt.plot(fpr, tpr)\n",
    "plt.show()"
   ]
  },
  {
   "cell_type": "code",
   "execution_count": 61,
   "metadata": {},
   "outputs": [
    {
     "data": {
      "text/plain": [
       "0.9601706970128023"
      ]
     },
     "execution_count": 61,
     "metadata": {},
     "output_type": "execute_result"
    }
   ],
   "source": [
    "roc_auc_score(y_test, y_test_pred)"
   ]
  },
  {
   "cell_type": "code",
   "execution_count": null,
   "metadata": {},
   "outputs": [],
   "source": []
  },
  {
   "cell_type": "code",
   "execution_count": 62,
   "metadata": {},
   "outputs": [
    {
     "data": {
      "image/png": "[encoded data removed]",
      "text/plain": [
       "<Figure size 640x480 with 1 Axes>"
      ]
     },
     "metadata": {},
     "output_type": "display_data"
    }
   ],
   "source": [
    "%matplotlib inline\n",
    "import matplotlib.pyplot as plt\n",
    "plt.plot(fpr, tpr)\n",
    "plt.show()"
   ]
  },
  {
   "cell_type": "code",
   "execution_count": 63,
   "metadata": {},
   "outputs": [
    {
     "data": {
      "text/plain": [
       "0.9601706970128023"
      ]
     },
     "execution_count": 63,
     "metadata": {},
     "output_type": "execute_result"
    }
   ],
   "source": [
    "roc_auc_score(y_test, y_test_pred)"
   ]
  },
  {
   "cell_type": "code",
   "execution_count": 64,
   "metadata": {},
   "outputs": [
    {
     "data": {
      "text/plain": [
       "\u001b[0;31mSignature:\u001b[0m\n",
       "\u001b[0mmetrics\u001b[0m\u001b[0;34m.\u001b[0m\u001b[0mroc_curve\u001b[0m\u001b[0;34m(\u001b[0m\u001b[0;34m\u001b[0m\n",
       "\u001b[0;34m\u001b[0m    \u001b[0my_true\u001b[0m\u001b[0;34m,\u001b[0m\u001b[0;34m\u001b[0m\n",
       "\u001b[0;34m\u001b[0m    \u001b[0my_score\u001b[0m\u001b[0;34m,\u001b[0m\u001b[0;34m\u001b[0m\n",
       "\u001b[0;34m\u001b[0m    \u001b[0;34m*\u001b[0m\u001b[0;34m,\u001b[0m\u001b[0;34m\u001b[0m\n",
       "\u001b[0;34m\u001b[0m    \u001b[0mpos_label\u001b[0m\u001b[0;34m=\u001b[0m\u001b[0;32mNone\u001b[0m\u001b[0;34m,\u001b[0m\u001b[0;34m\u001b[0m\n",
       "\u001b[0;34m\u001b[0m    \u001b[0msample_weight\u001b[0m\u001b[0;34m=\u001b[0m\u001b[0;32mNone\u001b[0m\u001b[0;34m,\u001b[0m\u001b[0;34m\u001b[0m\n",
       "\u001b[0;34m\u001b[0m    \u001b[0mdrop_intermediate\u001b[0m\u001b[0;34m=\u001b[0m\u001b[0;32mTrue\u001b[0m\u001b[0;34m,\u001b[0m\u001b[0;34m\u001b[0m\n",
       "\u001b[0;34m\u001b[0m\u001b[0;34m)\u001b[0m\u001b[0;34m\u001b[0m\u001b[0;34m\u001b[0m\u001b[0m\n",
       "\u001b[0;31mDocstring:\u001b[0m\n",
       "Compute Receiver operating characteristic (ROC).\n",
       "\n",
       "Note: this implementation is restricted to the binary classification task.\n",
       "\n",
       "Read more in the :ref:`User Guide <roc_metrics>`.\n",
       "\n",
       "Parameters\n",
       "----------\n",
       "y_true : array-like of shape (n_samples,)\n",
       "    True binary labels. If labels are not either {-1, 1} or {0, 1}, then\n",
       "    pos_label should be explicitly given.\n",
       "\n",
       "y_score : array-like of shape (n_samples,)\n",
       "    Target scores, can either be probability estimates of the positive\n",
       "    class, confidence values, or non-thresholded measure of decisions\n",
       "    (as returned by \"decision_function\" on some classifiers).\n",
       "\n",
       "pos_label : int, float, bool or str, default=None\n",
       "    The label of the positive class.\n",
       "    When ``pos_label=None``, if `y_true` is in {-1, 1} or {0, 1},\n",
       "    ``pos_label`` is set to 1, otherwise an error will be raised.\n",
       "\n",
       "sample_weight : array-like of shape (n_samples,), default=None\n",
       "    Sample weights.\n",
       "\n",
       "drop_intermediate : bool, default=True\n",
       "    Whether to drop some suboptimal thresholds which would not appear\n",
       "    on a plotted ROC curve. This is useful in order to create lighter\n",
       "    ROC curves.\n",
       "\n",
       "    .. versionadded:: 0.17\n",
       "       parameter *drop_intermediate*.\n",
       "\n",
       "Returns\n",
       "-------\n",
       "fpr : ndarray of shape (>2,)\n",
       "    Increasing false positive rates such that element i is the false\n",
       "    positive rate of predictions with score >= `thresholds[i]`.\n",
       "\n",
       "tpr : ndarray of shape (>2,)\n",
       "    Increasing true positive rates such that element `i` is the true\n",
       "    positive rate of predictions with score >= `thresholds[i]`.\n",
       "\n",
       "thresholds : ndarray of shape (n_thresholds,)\n",
       "    Decreasing thresholds on the decision function used to compute\n",
       "    fpr and tpr. `thresholds[0]` represents no instances being predicted\n",
       "    and is arbitrarily set to `np.inf`.\n",
       "\n",
       "See Also\n",
       "--------\n",
       "RocCurveDisplay.from_estimator : Plot Receiver Operating Characteristic\n",
       "    (ROC) curve given an estimator and some data.\n",
       "RocCurveDisplay.from_predictions : Plot Receiver Operating Characteristic\n",
       "    (ROC) curve given the true and predicted values.\n",
       "det_curve: Compute error rates for different probability thresholds.\n",
       "roc_auc_score : Compute the area under the ROC curve.\n",
       "\n",
       "Notes\n",
       "-----\n",
       "Since the thresholds are sorted from low to high values, they\n",
       "are reversed upon returning them to ensure they correspond to both ``fpr``\n",
       "and ``tpr``, which are sorted in reversed order during their calculation.\n",
       "\n",
       "An arbitrary threshold is added for the case `tpr=0` and `fpr=0` to\n",
       "ensure that the curve starts at `(0, 0)`. This threshold corresponds to the\n",
       "`np.inf`.\n",
       "\n",
       "References\n",
       "----------\n",
       ".. [1] `Wikipedia entry for the Receiver operating characteristic\n",
       "        <https://en.wikipedia.org/wiki/Receiver_operating_characteristic>`_\n",
       "\n",
       ".. [2] Fawcett T. An introduction to ROC analysis[J]. Pattern Recognition\n",
       "       Letters, 2006, 27(8):861-874.\n",
       "\n",
       "Examples\n",
       "--------\n",
       ">>> import numpy as np\n",
       ">>> from sklearn import metrics\n",
       ">>> y = np.array([1, 1, 2, 2])\n",
       ">>> scores = np.array([0.1, 0.4, 0.35, 0.8])\n",
       ">>> fpr, tpr, thresholds = metrics.roc_curve(y, scores, pos_label=2)\n",
       ">>> fpr\n",
       "array([0. , 0. , 0.5, 0.5, 1. ])\n",
       ">>> tpr\n",
       "array([0. , 0.5, 0.5, 1. , 1. ])\n",
       ">>> thresholds\n",
       "array([ inf, 0.8 , 0.4 , 0.35, 0.1 ])\n",
       "\u001b[0;31mFile:\u001b[0m      ~/GitRepos/fhgr-ai/code/venv/lib/python3.9/site-packages/sklearn/metrics/_ranking.py\n",
       "\u001b[0;31mType:\u001b[0m      function"
      ]
     },
     "metadata": {},
     "output_type": "display_data"
    }
   ],
   "source": [
    "metrics.roc_curve?"
   ]
  },
  {
   "cell_type": "markdown",
   "metadata": {},
   "source": [
    "### Die Veranschaulichung der ROC-Curve mit mehr oder weniger aussagekräftigen Verteilungen von Score-Werten\n"
   ]
  },
  {
   "cell_type": "code",
   "execution_count": 67,
   "metadata": {},
   "outputs": [
    {
     "data": {
      "image/png": "[encoded data removed]",
      "text/plain": [
       "<Figure size 1500x500 with 4 Axes>"
      ]
     },
     "metadata": {},
     "output_type": "display_data"
    },
    {
     "data": {
      "application/vnd.jupyter.widget-view+json": {
       "model_id": "f12dae3218f9448cb012d62c7b9005e9",
       "version_major": 2,
       "version_minor": 0
      },
      "text/plain": [
       "interactive(children=(FloatSlider(value=0.35, description='y_negativ', max=1.0, step=0.05), FloatSlider(value=…"
      ]
     },
     "metadata": {},
     "output_type": "display_data"
    },
    {
     "data": {
      "text/plain": [
       "<function __main__.hist_model(y_negativ, y_positiv)>"
      ]
     },
     "execution_count": 67,
     "metadata": {},
     "output_type": "execute_result"
    }
   ],
   "source": [
    "%matplotlib inline\n",
    "\n",
    "from ipywidgets import interact, interactive, fixed, interact_manual\n",
    "from sklearn import metrics\n",
    "import ipywidgets as widgets\n",
    "import matplotlib.pyplot as plt\n",
    "import seaborn as sn\n",
    "import numpy as np\n",
    "\n",
    "n = 300\n",
    "negative = np.random.normal(0, 0.1, n) #Gauss-Verteilung mit Mittelwert, Standardabweichung, Anzahl n Datenpunkte\n",
    "positive = np.random.normal(0, 0.1, n) #Gauss-Verteilung mit Mittelwert, Standardabweichung, Anzahl n Datenpunkte\n",
    "\n",
    "def hist_model(y_negativ, y_positiv):\n",
    "    fig, axs = plt.subplots(1,3, figsize=(15, 5))\n",
    "    fig.tight_layout(pad=5.0) #Abstand der Subplots\n",
    "    #fig.suptitle('Titel')\n",
    "    \n",
    "    axs[0].set_title('Daten binärer Klassenzugehörigkeit')\n",
    "    axs[0].set_xlim([0, 1])\n",
    "    neg = negative+y_negativ\n",
    "    pos = positive+y_positiv\n",
    "    X = np.concatenate((neg, pos))\n",
    "    y = np.concatenate(( np.zeros(n), np.ones(n) ))\n",
    "    entscheidungsgrenze = (y_positiv + y_negativ) / 2\n",
    "    y_pred = X >= entscheidungsgrenze\n",
    "    axs[0].hist(neg, bins = (int)(n/10), color='red',  alpha = 0.5)\n",
    "    axs[0].hist(pos, bins = (int)(n/10), color='blue', alpha = 0.5)\n",
    "    axs[0].plot([entscheidungsgrenze,entscheidungsgrenze], [0,10], color='black')\n",
    "    axs[0].text(entscheidungsgrenze, 0.44, 'Entscheidungsgrenze', color='black', horizontalalignment='center', verticalalignment='center', transform=axs[0].transAxes)\n",
    "    axs[0].text(entscheidungsgrenze, 0.39, 'des Modells', color='black', horizontalalignment='center', verticalalignment='center', transform=axs[0].transAxes)\n",
    "\n",
    "    axs[0].set_xlabel(\"Score-Wert des Modells\", \n",
    "           #family='serif', \n",
    "           #color='r', \n",
    "           weight='normal', \n",
    "           size = 16,\n",
    "           labelpad = 6)\n",
    "    axs[0].set_ylabel(\"Anzahl\", \n",
    "           #family='serif', \n",
    "           #color='r', \n",
    "           weight='normal', \n",
    "           size = 16,\n",
    "           labelpad = 6)\n",
    "    axs[0].text(0.5, 0.9, 'Rot: negativ', color='red', horizontalalignment='center', verticalalignment='center', transform=axs[0].transAxes)\n",
    "    axs[0].text(0.5, 0.85, 'Blau: positiv', color='blue', horizontalalignment='center', verticalalignment='center', transform=axs[0].transAxes)\n",
    "    axs[0].text(0.5, 0.8, 'Violett: uneindeutig', color='purple', horizontalalignment='center', verticalalignment='center', transform=axs[0].transAxes)\n",
    "\n",
    "    axs[1].set_title('ROC-Kurve')   \n",
    "    axs[1].set_xlabel(\"P(TP)\", \n",
    "           #family='serif', \n",
    "           #color='r', \n",
    "           weight='normal', \n",
    "           size = 16,\n",
    "           labelpad = 6)\n",
    "    axs[1].set_ylabel(\"P(FP)\", \n",
    "           #family='serif', \n",
    "           #color='r', \n",
    "           weight='normal', \n",
    "           size = 16,\n",
    "           labelpad = 6)\n",
    "    fpr, tpr, thresholds = metrics.roc_curve(y, X, pos_label=1)\n",
    "    axs[1].plot(fpr, tpr)\n",
    "    auc = roc_auc_score(y, y_pred)\n",
    "    axs[1].text(0.5, 0.5, 'AUC-Score: {auc:.3f}'.format(auc=auc), horizontalalignment='center', verticalalignment='center', transform=axs[1].transAxes)\n",
    "\n",
    "    axs[2].set_title('Confusion-Matrix')\n",
    "    conf_mat = pd.crosstab(y, y_pred, rownames=['Actual'], colnames=['Predicted'])\n",
    "    sn.heatmap(conf_mat, annot=True, ax=axs[2]) \n",
    "    \n",
    "interact(hist_model, y_negativ = widgets.FloatSlider(value=0.35,\n",
    "                                               min=0,\n",
    "                                               max=1.0,\n",
    "                                               step=0.05),\n",
    "                    y_positiv = widgets.FloatSlider(value=0.65,\n",
    "                                               min=0,\n",
    "                                               max=1.0,\n",
    "                                               step=0.05))"
   ]
  },
  {
   "cell_type": "code",
   "execution_count": null,
   "metadata": {},
   "outputs": [],
   "source": []
  }
 ],
 "metadata": {
  "kernelspec": {
   "display_name": "Python 3 (ipykernel)",
   "language": "python",
   "name": "python3"
  },
  "language_info": {
   "codemirror_mode": {
    "name": "ipython",
    "version": 3
   },
   "file_extension": ".py",
   "mimetype": "text/x-python",
   "name": "python",
   "nbconvert_exporter": "python",
   "pygments_lexer": "ipython3",
   "version": "3.9.6"
  }
 },
 "nbformat": 4,
 "nbformat_minor": 4
}

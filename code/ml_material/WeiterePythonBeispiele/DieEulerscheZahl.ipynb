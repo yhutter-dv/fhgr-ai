{
 "cells": [
  {
   "cell_type": "markdown",
   "metadata": {},
   "source": [
    "# Die Euler'sche Zahl"
   ]
  },
  {
   "cell_type": "markdown",
   "metadata": {},
   "source": [
    "### Ausgangspunkt sind Überlegungen der Berechnung von Zinsen"
   ]
  },
  {
   "cell_type": "code",
   "execution_count": 13,
   "metadata": {},
   "outputs": [
    {
     "name": "stdout",
     "output_type": "stream",
     "text": [
      "0:  1\n",
      "1 :  k_neu = (k+z) 2\n",
      "2 :  k_neu = (k+z) 4\n",
      "3 :  k_neu = (k+z) 8\n",
      "4 :  k_neu = (k+z) 16\n",
      "5 :  k_neu = (k+z) 32\n"
     ]
    }
   ],
   "source": [
    "import numpy as np\n",
    "k = 1 # Kapital ist 1\n",
    "z = 1 # Zinsatz ist 1, das heißt, es ist Zinssatz von 100% im Jahr - Voll der Wucherzins!!!! \n",
    "\n",
    "print('0: ', k)\n",
    "for i in np.arange(1,6,1):\n",
    "    k = k*(1 + z)\n",
    "    print(i, ':  k_neu = (k+z)', k )"
   ]
  },
  {
   "cell_type": "markdown",
   "metadata": {},
   "source": [
    "### Zinsen könnte man auch auf kürzere Zeiten verteilen - Beispiel mit halbjählichen Zinsen:"
   ]
  },
  {
   "cell_type": "code",
   "execution_count": 10,
   "metadata": {},
   "outputs": [
    {
     "name": "stdout",
     "output_type": "stream",
     "text": [
      "0:  1\n",
      "1.0 :  k_neu = (k+z) 2.25\n",
      "1.5 :  k_neu = (k+z) 5.0625\n",
      "2.0 :  k_neu = (k+z) 11.390625\n",
      "2.5 :  k_neu = (k+z) 25.62890625\n",
      "3.0 :  k_neu = (k+z) 57.6650390625\n",
      "3.5 :  k_neu = (k+z) 129.746337890625\n",
      "4.0 :  k_neu = (k+z) 291.92926025390625\n",
      "4.5 :  k_neu = (k+z) 656.8408355712891\n",
      "5.0 :  k_neu = (k+z) 1477.8918800354004\n",
      "5.5 :  k_neu = (k+z) 3325.256730079651\n"
     ]
    }
   ],
   "source": [
    "z = 1\n",
    "k = 1\n",
    "print('0: ', k)\n",
    "for i in np.arange(1,6,0.5):\n",
    "    k = k*(1 + z/2.0)*(1 + z/2.0)  #Die Zahl 2.0 ist die Anzahl der Zinszeitpunkte t\n",
    "    print(i, ':  k_neu = (k+z)', k )"
   ]
  },
  {
   "cell_type": "markdown",
   "metadata": {},
   "source": [
    "### Man kann jetzt auch sehr viele Zinszeitpunkte nehmen....."
   ]
  },
  {
   "cell_type": "code",
   "execution_count": 29,
   "metadata": {},
   "outputs": [
    {
     "name": "stdout",
     "output_type": "stream",
     "text": [
      "0:  1\n",
      "1.0 :  k_neu = (k+z) 2.7182816941320818\n",
      "1.5 :  k_neu = (k+z) 7.3890553686535805\n",
      "2.0 :  k_neu = (k+z) 20.08553394553941\n",
      "2.5 :  k_neu = (k+z) 54.598139241028306\n",
      "3.0 :  k_neu = (k+z) 148.41312243256172\n",
      "3.5 :  k_neu = (k+z) 403.4286738774159\n",
      "4.0 :  k_neu = (k+z) 1096.6327790889613\n",
      "4.5 :  k_neu = (k+z) 2980.956808582715\n",
      "5.0 :  k_neu = (k+z) 8103.080323768786\n",
      "5.5 :  k_neu = (k+z) 22026.454910182554\n"
     ]
    }
   ],
   "source": [
    "z = 1\n",
    "k = 1\n",
    "t = 10000000  # Man kann jetzt viele Zinszeitpunkte pro Jahr nehmen\n",
    "print('0: ', k)\n",
    "for i in np.arange(1,6,0.5):\n",
    "    k = k*(1 + z/t)**t\n",
    "    print(i, ':  k_neu = (k+z)', k )"
   ]
  },
  {
   "cell_type": "markdown",
   "metadata": {},
   "source": [
    "#### ...dann ergibt sich nach einem Jahr die Euler'sche Zahl als Grenzfall für unendlich viele Zinszeitpunkte"
   ]
  },
  {
   "cell_type": "code",
   "execution_count": null,
   "metadata": {},
   "outputs": [],
   "source": []
  }
 ],
 "metadata": {
  "kernelspec": {
   "display_name": "Python 3",
   "language": "python",
   "name": "python3"
  },
  "language_info": {
   "codemirror_mode": {
    "name": "ipython",
    "version": 3
   },
   "file_extension": ".py",
   "mimetype": "text/x-python",
   "name": "python",
   "nbconvert_exporter": "python",
   "pygments_lexer": "ipython3",
   "version": "3.8.5"
  }
 },
 "nbformat": 4,
 "nbformat_minor": 4
}

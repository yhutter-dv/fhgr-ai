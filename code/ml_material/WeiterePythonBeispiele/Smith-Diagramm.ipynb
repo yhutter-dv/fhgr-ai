{
 "cells": [
  {
   "cell_type": "markdown",
   "metadata": {},
   "source": [
    "### Möbius-Transformation zur Erzeugung eines Smith-Diagramms"
   ]
  },
  {
   "cell_type": "code",
   "execution_count": null,
   "metadata": {},
   "outputs": [],
   "source": [
    "import matplotlib.pyplot as plt\n",
    "import numpy as np"
   ]
  },
  {
   "cell_type": "markdown",
   "metadata": {},
   "source": [
    "Komplexe Zahlen"
   ]
  },
  {
   "cell_type": "code",
   "execution_count": null,
   "metadata": {},
   "outputs": [],
   "source": [
    "(-1+0.5j) + (3+0.5j)"
   ]
  },
  {
   "cell_type": "code",
   "execution_count": null,
   "metadata": {},
   "outputs": [],
   "source": [
    "(-1+0.5j) * (3+0.5j)"
   ]
  },
  {
   "cell_type": "code",
   "execution_count": null,
   "metadata": {},
   "outputs": [],
   "source": [
    "(-1+0.5j) * (3+0.5j)"
   ]
  },
  {
   "cell_type": "code",
   "execution_count": null,
   "metadata": {},
   "outputs": [],
   "source": [
    "np.conjugate(-1+0.5j)"
   ]
  },
  {
   "cell_type": "markdown",
   "metadata": {},
   "source": [
    "Array mit Real=0 und verschiedenen Imaginärwerten"
   ]
  },
  {
   "cell_type": "code",
   "execution_count": null,
   "metadata": {},
   "outputs": [],
   "source": [
    "cdata1 = [0+0j, 0+0.5j, 0+1j, 0+2j, 0+4j, 0+10j, 0-0.5j, 0-1j, 0-2j, 0-4j, 0-10j ]\n"
   ]
  },
  {
   "cell_type": "code",
   "execution_count": null,
   "metadata": {},
   "outputs": [],
   "source": [
    "cdata1"
   ]
  },
  {
   "cell_type": "code",
   "execution_count": null,
   "metadata": {},
   "outputs": [],
   "source": [
    "x1 = [ele.real for ele in cdata1]\n",
    "y1 = [ele.imag for ele in cdata1]"
   ]
  },
  {
   "cell_type": "code",
   "execution_count": null,
   "metadata": {},
   "outputs": [],
   "source": [
    "y1"
   ]
  },
  {
   "cell_type": "code",
   "execution_count": null,
   "metadata": {},
   "outputs": [],
   "source": [
    "plt.scatter(x1,y1, color='green', s=50)"
   ]
  },
  {
   "cell_type": "code",
   "execution_count": null,
   "metadata": {},
   "outputs": [],
   "source": [
    "smith1 = np.array([])"
   ]
  },
  {
   "cell_type": "markdown",
   "metadata": {},
   "source": [
    "Möbiustransformation: Die grünen Punkte ergeben dann einen Kreis..."
   ]
  },
  {
   "cell_type": "code",
   "execution_count": null,
   "metadata": {},
   "outputs": [],
   "source": [
    "for c in cdata1:\n",
    "    smith1 = np.append(smith1,np.array([(c-1)/(c+1)], dtype=complex))"
   ]
  },
  {
   "cell_type": "code",
   "execution_count": null,
   "metadata": {},
   "outputs": [],
   "source": [
    "smith1"
   ]
  },
  {
   "cell_type": "code",
   "execution_count": null,
   "metadata": {},
   "outputs": [],
   "source": [
    "x1 = [ele.real for ele in smith1]\n",
    "y1 = [ele.imag for ele in smith1]"
   ]
  },
  {
   "cell_type": "markdown",
   "metadata": {},
   "source": [
    "Verschiedene positive Realwerte bei -1j und -2j"
   ]
  },
  {
   "cell_type": "code",
   "execution_count": null,
   "metadata": {},
   "outputs": [],
   "source": [
    "plt.ylim((-3,3))\n",
    "cdata2 = [0.2-1j,0.4-1j,0.6-1j,0.8-1j,1-1j,2-1j,4-1j,6-1j,8-1j,10-1j,20-1j,40-1j,60-1j, 80-1j,100-1j ]\n",
    "x2 = [ele.real for ele in cdata2]\n",
    "y2 = [ele.imag for ele in cdata2]\n",
    "plt.scatter(x2,y2, color='red', s=20)\n",
    "smith2 = np.array([])\n",
    "for c in cdata2:\n",
    "    smith2 = np.append(smith2,np.array([(c-1)/(c+1)], dtype=complex))\n",
    "x2 = [ele.real for ele in smith2]\n",
    "y2 = [ele.imag for ele in smith2]\n",
    "\n",
    "cdata3 = [0.2-2j,0.4-2j,0.6-2j,0.8-2j,1-2j,2-2j,4-2j,6-2j,8-2j,10-2j,20-2j,40-2j,60-2j, 80-2j,100-2j ]\n",
    "x3 = [ele.real for ele in cdata3]\n",
    "y3 = [ele.imag for ele in cdata3]\n",
    "plt.scatter(x3,y3, color='blue', s=20)\n",
    "smith3 = np.array([])\n",
    "for c in cdata3:\n",
    "    smith3 = np.append(smith3,np.array([(c-1)/(c+1)], dtype=complex))\n",
    "x3 = [ele.real for ele in smith3]\n",
    "y3 = [ele.imag for ele in smith3]\n",
    "plt.figure(dpi=100, figsize=(5,5))\n"
   ]
  },
  {
   "cell_type": "markdown",
   "metadata": {},
   "source": [
    "Rudiment eines Smith-Diagramms"
   ]
  },
  {
   "cell_type": "code",
   "execution_count": null,
   "metadata": {},
   "outputs": [],
   "source": [
    "plt.figure(dpi=100, figsize=(5,5))\n",
    "plt.scatter(x1,y1, color='green', s=50)\n",
    "plt.plot([0], [0], '+', color='black')\n",
    "plt.scatter(x2,y2, color='red', s=20)\n",
    "plt.scatter(x3,y3, color='blue', s=20)"
   ]
  },
  {
   "cell_type": "code",
   "execution_count": null,
   "metadata": {},
   "outputs": [],
   "source": []
  },
  {
   "cell_type": "code",
   "execution_count": null,
   "metadata": {},
   "outputs": [],
   "source": []
  }
 ],
 "metadata": {
  "kernelspec": {
   "display_name": "Python 3",
   "language": "python",
   "name": "python3"
  },
  "language_info": {
   "codemirror_mode": {
    "name": "ipython",
    "version": 3
   },
   "file_extension": ".py",
   "mimetype": "text/x-python",
   "name": "python",
   "nbconvert_exporter": "python",
   "pygments_lexer": "ipython3",
   "version": "3.8.5"
  }
 },
 "nbformat": 4,
 "nbformat_minor": 4
}

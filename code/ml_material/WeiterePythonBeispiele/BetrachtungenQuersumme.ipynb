{
 "cells": [
  {
   "cell_type": "markdown",
   "metadata": {},
   "source": [
    "Warum kann man die Teilbarkeit durch 3 mit der Quersumme ermitteln?"
   ]
  },
  {
   "cell_type": "code",
   "execution_count": null,
   "metadata": {},
   "outputs": [],
   "source": [
    "def quersumme(n):\n",
    "    qs = 0\n",
    "    while n:\n",
    "        qs += n % 10\n",
    "        n = n // 10\n",
    "    return qs"
   ]
  },
  {
   "cell_type": "code",
   "execution_count": null,
   "metadata": {},
   "outputs": [],
   "source": [
    "n = 99\n"
   ]
  },
  {
   "cell_type": "code",
   "execution_count": null,
   "metadata": {},
   "outputs": [],
   "source": [
    "\n",
    "if n < 1 or n % 1 != 0:\n",
    "    print (\"Die von Ihnen eingegebene Zahl ist keine natuerliche Zahl!\")\n",
    "\n",
    "else:\n",
    "    print (\"Die Quersumme von %d ist %d.\" % (n, quersumme(n)))"
   ]
  },
  {
   "cell_type": "code",
   "execution_count": null,
   "metadata": {},
   "outputs": [],
   "source": [
    "%matplotlib inline\n",
    "import matplotlib.pyplot as plt\n",
    "import numpy as np\n",
    "teiler = 3 #Diesen Wert ändern, dann sieht man, dass 3 ein Sonderfall ist\n",
    "plt.figure(figsize=(12, 5))\n",
    "werte = np.arange(teiler,1100, teiler)\n",
    "qswerte = []\n",
    "for i in werte:\n",
    "    qswerte.append(quersumme(i))\n",
    "plt.scatter(werte, qswerte, color=\"red\", linewidth=1)\n",
    "for i in np.arange(teiler,30,teiler):\n",
    "    plt.plot([0,1100], [i,i], color=\"blue\" )\n",
    "plt.show()"
   ]
  },
  {
   "cell_type": "code",
   "execution_count": null,
   "metadata": {},
   "outputs": [],
   "source": []
  }
 ],
 "metadata": {
  "kernelspec": {
   "display_name": "Python 3",
   "language": "python",
   "name": "python3"
  },
  "language_info": {
   "codemirror_mode": {
    "name": "ipython",
    "version": 3
   },
   "file_extension": ".py",
   "mimetype": "text/x-python",
   "name": "python",
   "nbconvert_exporter": "python",
   "pygments_lexer": "ipython3",
   "version": "3.8.5"
  }
 },
 "nbformat": 4,
 "nbformat_minor": 4
}

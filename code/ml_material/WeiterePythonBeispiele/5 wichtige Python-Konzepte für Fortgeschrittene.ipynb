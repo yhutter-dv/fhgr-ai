{
 "cells": [
  {
   "cell_type": "markdown",
   "id": "805446f1",
   "metadata": {},
   "source": [
    "# Wichtige Python-Konzepte für Fortgeschrittene"
   ]
  },
  {
   "cell_type": "markdown",
   "id": "623e1480",
   "metadata": {},
   "source": [
    "### 1. Mutables vs. Immutables\n",
    "<b>Immutables:</b><br>\n",
    "z.B.: <i>str, int float, bool, bytes, tuple</i><br>\n",
    "Strukturen, deren Inhalt nicht geändert werden können. Bei Übergabe und Zuweisung wird eine Kopie übergeben. <br>\n",
    "\n",
    "<b>Mutables:</b><br>\n",
    "z.B.: <i>list, set, dict, u.a. Objekte aus Libraries...</i><br>\n",
    "Variablen enthalten Referenzen wie bei einem Zeiger auf diese Strukturen. Die Inhalte der Strukturen können im Nachhinein geändert werden. <br>\n"
   ]
  },
  {
   "cell_type": "code",
   "execution_count": 79,
   "id": "510c99f3",
   "metadata": {},
   "outputs": [
    {
     "data": {
      "text/plain": [
       "1"
      ]
     },
     "execution_count": 79,
     "metadata": {},
     "output_type": "execute_result"
    }
   ],
   "source": [
    "x = (1,3)\n",
    "x[0]"
   ]
  },
  {
   "cell_type": "code",
   "execution_count": 80,
   "id": "91725aee",
   "metadata": {},
   "outputs": [
    {
     "ename": "TypeError",
     "evalue": "'tuple' object does not support item assignment",
     "output_type": "error",
     "traceback": [
      "\u001b[0;31m---------------------------------------------------------------------------\u001b[0m",
      "\u001b[0;31mTypeError\u001b[0m                                 Traceback (most recent call last)",
      "\u001b[0;32m/var/folders/lp/k8dy9zk91tlbkfkpvlds522m0000gn/T/ipykernel_4134/1152888938.py\u001b[0m in \u001b[0;36m<module>\u001b[0;34m\u001b[0m\n\u001b[0;32m----> 1\u001b[0;31m \u001b[0mx\u001b[0m\u001b[0;34m[\u001b[0m\u001b[0;36m0\u001b[0m\u001b[0;34m]\u001b[0m \u001b[0;34m=\u001b[0m \u001b[0;36m2\u001b[0m  \u001b[0;31m# geht aber nicht, weil tupel immutable sind. Das Innere ist also nicht änderbar\u001b[0m\u001b[0;34m\u001b[0m\u001b[0;34m\u001b[0m\u001b[0m\n\u001b[0m",
      "\u001b[0;31mTypeError\u001b[0m: 'tuple' object does not support item assignment"
     ]
    }
   ],
   "source": [
    "x[0] = 2  # geht aber nicht, weil tupel immutable sind. Das Innere ist also nicht änderbar"
   ]
  },
  {
   "cell_type": "code",
   "execution_count": 81,
   "id": "be5fd473",
   "metadata": {},
   "outputs": [],
   "source": [
    "y = x         # Das Objekt x kann kopiert werden.\n",
    "x = (4,5,6)   # Überschreiben der Variable geht aber..."
   ]
  },
  {
   "cell_type": "code",
   "execution_count": 82,
   "id": "1cf80172",
   "metadata": {},
   "outputs": [
    {
     "name": "stdout",
     "output_type": "stream",
     "text": [
      "[100, 2] [100, 2]\n"
     ]
    }
   ],
   "source": [
    "x = [1, 2]    # Ist eine Liste. Diese ist muatble!\n",
    "y = x         # Es wird eine Referenz auf diese Liste kopiert...\n",
    "x[0] = 100    # Änderungen der Liste \n",
    "print(x,y)    # sind erlaubt und betreffen auch alle Referenzen wie z.B. hier das y"
   ]
  },
  {
   "cell_type": "code",
   "execution_count": 84,
   "id": "ffd96034",
   "metadata": {},
   "outputs": [
    {
     "name": "stdout",
     "output_type": "stream",
     "text": [
      "[3, 5, 10, 2, 1, 6]\n",
      "Größte Zahl  [10]\n",
      "[1, 2, 3, 5, 6, 10]\n"
     ]
    }
   ],
   "source": [
    "def groesste_Zahl(numbers):\n",
    "    numbers.sort()\n",
    "    return numbers[-1:]\n",
    "\n",
    "nums = [3,5,10,2,1,6]\n",
    "print(nums)\n",
    "gr = groesste_Zahl(nums)\n",
    "print(\"Größte Zahl \", gr)\n",
    "print(nums)                 #Seiteneffekt: dummerweise wird die Liste in der Funktion sortiert. \n"
   ]
  },
  {
   "cell_type": "markdown",
   "id": "ad89c5b6",
   "metadata": {},
   "source": [
    "### 2. List Comprehension\n",
    "Es ist möglich innerhalb einer Listenklammer eine For-Schleife zu realisieren. Auch Bedingungen sind hier machbar. "
   ]
  },
  {
   "cell_type": "code",
   "execution_count": 85,
   "id": "47dc8f58",
   "metadata": {},
   "outputs": [
    {
     "data": {
      "text/plain": [
       "[1, 2, 3, 4, 5, 6, 7, 8, 9, 10, 11, 12, 13, 14, 15, 16, 17, 18, 19]"
      ]
     },
     "execution_count": 85,
     "metadata": {},
     "output_type": "execute_result"
    }
   ],
   "source": [
    "x = [i for i in range(1,20)]   # innerhalb einer Listenklammer kann eine for-Schlefe stehen\n",
    "x"
   ]
  },
  {
   "cell_type": "code",
   "execution_count": 86,
   "id": "96b4a3b9",
   "metadata": {},
   "outputs": [
    {
     "data": {
      "text/plain": [
       "[[1, 2, 3, 4, 5, 6, 7, 8, 9, 10, 11, 12, 13, 14, 15, 16, 17, 18, 19]]"
      ]
     },
     "execution_count": 86,
     "metadata": {},
     "output_type": "execute_result"
    }
   ],
   "source": [
    "x = [[i for i in range(1,20)]]   # innerhalb einer Listenklammer kann eine for-Schlefe stehen\n",
    "x"
   ]
  },
  {
   "cell_type": "code",
   "execution_count": 88,
   "id": "972b396b",
   "metadata": {},
   "outputs": [
    {
     "data": {
      "text/plain": [
       "[[1, 2, 3, 4],\n",
       " [2, 3, 4, 5],\n",
       " [3, 4, 5, 6],\n",
       " [4, 5, 6, 7],\n",
       " [5, 6, 7, 8],\n",
       " [6, 7, 8, 9],\n",
       " [7, 8, 9, 10],\n",
       " [8, 9, 10, 11],\n",
       " [9, 10, 11, 12],\n",
       " [10, 11, 12, 13],\n",
       " [11, 12, 13, 14],\n",
       " [12, 13, 14, 15],\n",
       " [13, 14, 15, 16],\n",
       " [14, 15, 16, 17],\n",
       " [15, 16, 17, 18],\n",
       " [16, 17, 18, 19],\n",
       " [17, 18, 19, 20],\n",
       " [18, 19, 20, 21],\n",
       " [19, 20, 21, 22]]"
      ]
     },
     "execution_count": 88,
     "metadata": {},
     "output_type": "execute_result"
    }
   ],
   "source": [
    "x = [[i,i+1,i+2,i+3] for i in range(1,20)]   # innerhalb einer Listenklammer kann eine for-Schlefe stehen\n",
    "x"
   ]
  },
  {
   "cell_type": "code",
   "execution_count": 89,
   "id": "3db46c69",
   "metadata": {},
   "outputs": [
    {
     "data": {
      "text/plain": [
       "[(1, 1),\n",
       " (1, 2),\n",
       " (1, 3),\n",
       " (1, 4),\n",
       " (1, 5),\n",
       " (1, 6),\n",
       " (1, 7),\n",
       " (1, 8),\n",
       " (1, 9),\n",
       " (1, 10),\n",
       " (1, 11),\n",
       " (1, 12),\n",
       " (1, 13),\n",
       " (1, 14),\n",
       " (1, 15),\n",
       " (1, 16),\n",
       " (1, 17),\n",
       " (1, 18),\n",
       " (1, 19)]"
      ]
     },
     "execution_count": 89,
     "metadata": {},
     "output_type": "execute_result"
    }
   ],
   "source": [
    "x = [(1,i) for i in range(1,20)]   # innerhalb einer Listenklammer kann eine for-Schlefe stehen\n",
    "x"
   ]
  },
  {
   "cell_type": "code",
   "execution_count": 90,
   "id": "98e3ecd5",
   "metadata": {},
   "outputs": [
    {
     "data": {
      "text/plain": [
       "[[1, 2, 3, 4],\n",
       " [1, 2, 3, 4],\n",
       " [1, 2, 3, 4],\n",
       " [1, 2, 3, 4],\n",
       " [1, 2, 3, 4],\n",
       " [1, 2, 3, 4],\n",
       " [1, 2, 3, 4],\n",
       " [1, 2, 3, 4],\n",
       " [1, 2, 3, 4],\n",
       " [1, 2, 3, 4],\n",
       " [1, 2, 3, 4],\n",
       " [1, 2, 3, 4],\n",
       " [1, 2, 3, 4],\n",
       " [1, 2, 3, 4],\n",
       " [1, 2, 3, 4],\n",
       " [1, 2, 3, 4],\n",
       " [1, 2, 3, 4],\n",
       " [1, 2, 3, 4],\n",
       " [1, 2, 3, 4]]"
      ]
     },
     "execution_count": 90,
     "metadata": {},
     "output_type": "execute_result"
    }
   ],
   "source": [
    "x = [[j for j in range(1,5)] for i in range(1,20)]   # innerhalb einer Listenklammer kann eine for-Schleife stehen\n",
    "x"
   ]
  },
  {
   "cell_type": "code",
   "execution_count": 93,
   "id": "2bc6cd62",
   "metadata": {},
   "outputs": [
    {
     "data": {
      "text/plain": [
       "[]"
      ]
     },
     "execution_count": 93,
     "metadata": {},
     "output_type": "execute_result"
    }
   ],
   "source": [
    "x = [i for i in range(1,20) if i%2 == 2]   # Nach der For-Schleife kann eine Bedingung angegeben werden.\n",
    "x"
   ]
  },
  {
   "cell_type": "markdown",
   "id": "85b50fa9",
   "metadata": {},
   "source": [
    "### 3. Verschiedene Argument- und Parametertypen \n"
   ]
  },
  {
   "cell_type": "code",
   "execution_count": 96,
   "id": "8285d214",
   "metadata": {},
   "outputs": [
    {
     "name": "stdout",
     "output_type": "stream",
     "text": [
      "x:  1    y:  2  z:  10\n",
      "x:  1    y:  2  z:  1000\n",
      "x:  100    y:  200  z:  10\n",
      "x:  1    y:  2  z:  3\n"
     ]
    }
   ],
   "source": [
    "def komplizierte_funktion(x,y,z=10):\n",
    "    print(\"x: \", x, \"   y: \", y, \" z: \", z)\n",
    "\n",
    "komplizierte_funktion(1, 2)\n",
    "komplizierte_funktion(y=2,z=1000, x=1)    # Man kann die Argumente direkt ansprechen, dann braucht man die Reihenfolge nicht einzuhalten\n",
    "komplizierte_funktion(100, y=200)  # Mischen ist hier möglich. ...aber manchmal heikel\n",
    "komplizierte_funktion(1,2,3)       # optionales z wird so überschrieben"
   ]
  },
  {
   "cell_type": "code",
   "execution_count": 97,
   "id": "03a44cce",
   "metadata": {},
   "outputs": [
    {
     "name": "stdout",
     "output_type": "stream",
     "text": [
      "x:  1    y:  2  args: (3, 4, 5, 6, 7, 8)\n"
     ]
    }
   ],
   "source": [
    "def speziell_komplizierte_funktion(x,y,*args):\n",
    "    print(\"x: \", x, \"   y: \", y, \" args:\", args)\n",
    "    \n",
    "speziell_komplizierte_funktion(1,2,3,4,5,6,7,8)     #args wird zu einem immutable Tupel..."
   ]
  },
  {
   "cell_type": "code",
   "execution_count": 98,
   "id": "d58b5aee",
   "metadata": {},
   "outputs": [
    {
     "name": "stdout",
     "output_type": "stream",
     "text": [
      "x:  1    y:  2  args: (3, 4, 5)  kwargs {'s': 'hello', 'b': True}\n"
     ]
    }
   ],
   "source": [
    "def noch_komplizierte_funktion(x,y,*args, **kwargs):\n",
    "    print(\"x: \", x, \"   y: \", y, \" args:\", args, \" kwargs\", kwargs)\n",
    "    \n",
    "noch_komplizierte_funktion(1,2,3,4,5,s=\"hello\", b=True)  # kwargs wird zu einem dict"
   ]
  },
  {
   "cell_type": "code",
   "execution_count": 99,
   "id": "fabea369",
   "metadata": {},
   "outputs": [
    {
     "name": "stdout",
     "output_type": "stream",
     "text": [
      "x:  [100, 101, 102]    y:  2  args: (3, 4, 5)  kwargs {'s': 'hello', 'b': True}\n"
     ]
    }
   ],
   "source": [
    "noch_komplizierte_funktion([100,101,102],2,3,4,5,s=\"hello\", b=True)  # x kann auch eine Liste sein"
   ]
  },
  {
   "cell_type": "code",
   "execution_count": 100,
   "id": "a51b9795",
   "metadata": {},
   "outputs": [
    {
     "name": "stdout",
     "output_type": "stream",
     "text": [
      "x:  1    y:  2  args: (3, 4)  s:  hello  b:  True\n"
     ]
    }
   ],
   "source": [
    "def noch_viel_komplizierte_funktion(x,y, *args, s=\"str\", b=False):\n",
    "    print(\"x: \", x, \"   y: \", y, \" args:\", args, \" s: \", s, \" b: \", b)\n",
    "\n",
    "noch_viel_komplizierte_funktion( *[1,2,3,4], **{\"s\": \"hello\", \"b\": True})   # Man kann statt Parametern auch dict übergeben"
   ]
  },
  {
   "cell_type": "markdown",
   "id": "fb1b1079",
   "metadata": {},
   "source": [
    "### 4.  Code in Abhängigkeit der Eigenschaft einer Library oder Direktaufruf ausführen\n",
    "\n",
    "Das Statement <br><b>if \\_\\_name\\_\\_ == \"\\_\\_main\\_\\_\"</b><br>kann dies identifizieren..."
   ]
  },
  {
   "cell_type": "code",
   "execution_count": 107,
   "id": "b0635c5c",
   "metadata": {},
   "outputs": [],
   "source": [
    "def add(a, b):\n",
    "    if __name__ == \"__main__\":\n",
    "        print(\"run\")\n",
    "    return a + b + 1"
   ]
  },
  {
   "cell_type": "code",
   "execution_count": 108,
   "id": "9029383a",
   "metadata": {},
   "outputs": [
    {
     "name": "stdout",
     "output_type": "stream",
     "text": [
      "run\n",
      "4\n"
     ]
    }
   ],
   "source": [
    "x = add(1,2)\n",
    "print(x)"
   ]
  },
  {
   "cell_type": "code",
   "execution_count": 109,
   "id": "6c93c115",
   "metadata": {},
   "outputs": [
    {
     "name": "stdout",
     "output_type": "stream",
     "text": [
      "3\n"
     ]
    }
   ],
   "source": [
    "from assfalg import add\n",
    "x = add(1,2)\n",
    "print(x)"
   ]
  },
  {
   "cell_type": "markdown",
   "id": "297b5042",
   "metadata": {},
   "source": [
    "### 5. Global-Interpreter-Lock\n",
    "Mehrere Threads auf parallel arbeitenden Cores kann Python nicht so ohne Weiteres tatsächlich parallelisieren. "
   ]
  }
 ],
 "metadata": {
  "kernelspec": {
   "display_name": "Python 3 (ipykernel)",
   "language": "python",
   "name": "python3"
  },
  "language_info": {
   "codemirror_mode": {
    "name": "ipython",
    "version": 3
   },
   "file_extension": ".py",
   "mimetype": "text/x-python",
   "name": "python",
   "nbconvert_exporter": "python",
   "pygments_lexer": "ipython3",
   "version": "3.9.13"
  }
 },
 "nbformat": 4,
 "nbformat_minor": 5
}

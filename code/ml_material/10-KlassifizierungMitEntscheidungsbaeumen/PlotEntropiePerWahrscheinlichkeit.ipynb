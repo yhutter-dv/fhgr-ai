{
 "cells": [
  {
   "cell_type": "markdown",
   "metadata": {},
   "source": [
    "# Zum Verständnis des Entropiebegriffs"
   ]
  },
  {
   "cell_type": "markdown",
   "metadata": {},
   "source": [
    "### Zunächst ein klassischer Münzwurf: P=0.5 -> Entropie ist maximal, weil keine Ordnung erkennbar ist: "
   ]
  },
  {
   "cell_type": "code",
   "execution_count": null,
   "metadata": {},
   "outputs": [],
   "source": [
    "%matplotlib inline\n",
    "%config InlineBackend.figure_formats = set([\"retina\"])\n",
    "\n",
    "import seaborn as sns\n",
    "import numpy as np\n",
    "import matplotlib.pyplot as plt\n",
    "\n",
    "x = np.linspace(0, 1, 1000)\n",
    "\n",
    "sns.set_style(\"whitegrid\", {\"axes.facecolor\": \"#00000000\", \"figure.facecolor\": \"#00000000\"})\n",
    "sns.set_context(\"notebook\", font_scale=1.5)\n",
    "\n",
    "plt.plot(x, -x * np.log2(x) - (1 - x) * np.log2(1 - x), linewidth = 3)\n",
    "plt.xlim(0, 1)\n",
    "plt.ylim(0, 1)\n",
    "plt.xlabel(\"Wahrscheinlichkeit (p)\")\n",
    "plt.ylabel(\"Entropie (H)\")\n",
    "plt.show()"
   ]
  },
  {
   "cell_type": "code",
   "execution_count": null,
   "metadata": {},
   "outputs": [],
   "source": [
    "import numpy as np\n",
    "np.log?"
   ]
  },
  {
   "cell_type": "markdown",
   "metadata": {},
   "source": [
    "### Wachstumsprozesse  sind der Abhängigkeit zwischen Entropie und Wahrscheinlichkeit sehr ähnlich (Demografisches Modell nach Verhulst 1837) "
   ]
  },
  {
   "cell_type": "code",
   "execution_count": null,
   "metadata": {
    "scrolled": true
   },
   "outputs": [],
   "source": [
    "%matplotlib inline\n",
    "%config InlineBackend.figure_formats = set([\"retina\"])\n",
    "\n",
    "import seaborn as sns\n",
    "import numpy as np\n",
    "import matplotlib.pyplot as plt\n",
    "\n",
    "x = np.linspace(0, 1, 1000)\n",
    "\n",
    "sns.set_style(\"whitegrid\", {\"axes.facecolor\": \"#00000000\", \"figure.facecolor\": \"#00000000\"})\n",
    "sns.set_context(\"notebook\", font_scale=1.5)\n",
    "\n",
    "r = 3.5\n",
    "plt.plot(x, r*x*(1-x), linewidth = 3)\n",
    "plt.xlim(0, 1)\n",
    "plt.ylim(0, 1)\n",
    "plt.xlabel(\"Population (x n)\")\n",
    "plt.ylabel(\"Nächste Population (x n+1)\")\n",
    "plt.show()"
   ]
  },
  {
   "cell_type": "markdown",
   "metadata": {},
   "source": [
    "### Ab manchen R-Werten gibt es Oszillationen zwischen mehreren Zuständen... \n",
    "### (sog. Bifurkationen 2, 4, 6, 8, 10, usw. Zustände) "
   ]
  },
  {
   "cell_type": "code",
   "execution_count": null,
   "metadata": {},
   "outputs": [],
   "source": [
    "%matplotlib inline\n",
    "%config InlineBackend.figure_formats = set([\"retina\"])\n",
    "\n",
    "import seaborn as sns\n",
    "import numpy as np\n",
    "import matplotlib.pyplot as plt\n",
    "sns.set_style(\"whitegrid\", {\"axes.facecolor\": \"#00000000\", \"figure.facecolor\": \"#00000000\"})\n",
    "sns.set_context(\"notebook\", font_scale=1.5)\n",
    "\n",
    "t = np.linspace(0, 100, 100)\n",
    "#Startpopulation: 40%\n",
    "x = [0.8]\n",
    "r = 3.5\n",
    "\n",
    "print(x[0])\n",
    "for i in range(1, 100):\n",
    "    xn = r*x[i-1]*(1-x[i-1])\n",
    "    x.append(xn)\n",
    "    \n",
    "plt.plot(t, x, linewidth = 3)\n",
    "plt.xlim(0, 20)\n",
    "plt.ylim(0, 1)\n",
    "plt.xlabel(\"Population (x n)\")\n",
    "plt.ylabel(\"Nächste Population (x n+1)\")\n",
    "plt.show()"
   ]
  },
  {
   "cell_type": "markdown",
   "metadata": {},
   "source": [
    "### Probiert man alle möglichen R-Werte ergibt sich das Feigenbaumdiagramm"
   ]
  },
  {
   "cell_type": "code",
   "execution_count": null,
   "metadata": {},
   "outputs": [],
   "source": [
    "%matplotlib inline\n",
    "%config InlineBackend.figure_formats = set([\"retina\"])\n",
    "\n",
    "import seaborn as sns\n",
    "import numpy as np\n",
    "import matplotlib.pyplot as plt\n",
    "sns.set_style(\"whitegrid\", {\"axes.facecolor\": \"#00000000\", \"figure.facecolor\": \"#00000000\"})\n",
    "sns.set_context(\"notebook\", font_scale=1.5)\n",
    "\n",
    "r = np.linspace(0, 5, 1000)\n",
    "for ri in r:\n",
    "    t = np.linspace(0, 100, 100)\n",
    "    #Startpopulation: 40%\n",
    "    x = [0.8]\n",
    "    for i in range(1, 100):\n",
    "        xn = ri*x[i-1]*(1-x[i-1])\n",
    "        x.append(xn)\n",
    "    #print(\"R: \"+str(ri)+ \" equi:\" +str(x[99])+\"\\n\")\n",
    "    rx = np.full((1,80), ri)\n",
    "    plt.scatter(rx, x[20:100], s = 0.2)\n",
    "        \n",
    "plt.xlim(0, 5)\n",
    "plt.ylim(0, 1)\n",
    "plt.xlabel(\" Reproduktion R\")\n",
    "plt.ylabel(\"Populationsgröße P\")\n",
    "plt.show()"
   ]
  },
  {
   "cell_type": "markdown",
   "metadata": {},
   "source": [
    "### ... ab einem Wert von r=3,6 bricht \"Chaos\" aus!"
   ]
  },
  {
   "cell_type": "code",
   "execution_count": null,
   "metadata": {},
   "outputs": [],
   "source": []
  }
 ],
 "metadata": {
  "kernelspec": {
   "display_name": "Python 3 (ipykernel)",
   "language": "python",
   "name": "python3"
  },
  "language_info": {
   "codemirror_mode": {
    "name": "ipython",
    "version": 3
   },
   "file_extension": ".py",
   "mimetype": "text/x-python",
   "name": "python",
   "nbconvert_exporter": "python",
   "pygments_lexer": "ipython3",
   "version": "3.9.13"
  }
 },
 "nbformat": 4,
 "nbformat_minor": 2
}

{
 "cells": [
  {
   "cell_type": "markdown",
   "metadata": {},
   "source": [
    "# Neuronale Netze für die Optimierung von Prozessen"
   ]
  },
  {
   "cell_type": "code",
   "execution_count": null,
   "metadata": {},
   "outputs": [],
   "source": [
    "# first neural network with keras tutorial\n",
    "from numpy import loadtxt\n",
    "from keras.models import Sequential\n",
    "from keras.layers import Dense\n",
    "from keras.losses import MeanSquaredError"
   ]
  },
  {
   "cell_type": "code",
   "execution_count": null,
   "metadata": {},
   "outputs": [],
   "source": [
    "knoten = [1,2,3,4,5,6,7,8]\n",
    "typ = [1,1,1,2,2,3,3,3]\n",
    "ruestzeit = [10,12,11,10,8,12,15,12,10]\n",
    "#ruestzeit = [0,0,0,0,0,0,0,0]\n"
   ]
  },
  {
   "cell_type": "code",
   "execution_count": null,
   "metadata": {},
   "outputs": [],
   "source": [
    "import numpy as np\n",
    "# Hier das \"verborgene\" Modell\n",
    "def durchlaufzeit(schedule):\n",
    "    summe = 0\n",
    "    for i in np.arange(0,len(schedule)):\n",
    "        time = 0\n",
    "        #Aktueller Knoten: k\n",
    "        k = schedule[i]\n",
    "        ruest_k = ruestzeit[k-1]\n",
    "        typ_k = typ[k-1]\n",
    "        #print(\"i:\",i,\" k:\", k, \" typ: \", typ_k, \" ruest:\",ruest_k)\n",
    "        if i == 0:\n",
    "            #print(\"->i: \", i)\n",
    "            time = ruest_k + 2\n",
    "        else:\n",
    "            time = ruest_k\n",
    "            # Es gibt einen Vorgänger und das ist der Konten p\n",
    "            p = schedule[i-1]\n",
    "            typ_p = typ[k-2]\n",
    "            if typ_k == typ_p:\n",
    "                time = time + 1\n",
    "            time = time + np.abs(typ_k - typ_p) * 2\n",
    "            #print(\"       p:\",p,\"Typ_p: \", typ_p)\n",
    "        #print(\"           time:\", time)\n",
    "        summe = summe + time\n",
    "    return(summe)\n",
    "        "
   ]
  },
  {
   "cell_type": "code",
   "execution_count": null,
   "metadata": {},
   "outputs": [],
   "source": [
    "durchlaufzeit(knoten)"
   ]
  },
  {
   "cell_type": "code",
   "execution_count": null,
   "metadata": {},
   "outputs": [],
   "source": [
    "import random\n",
    "y = np.array([])\n",
    "X = np.array([])\n",
    "for i in np.arange(1,10000):\n",
    "    random_numbers = np.array(random.sample(range(8), 8))\n",
    "    d = durchlaufzeit(random_numbers + 1)\n",
    "    print(random_numbers, \" -> \", d)\n",
    "    y = np.append(y,[d])\n",
    "    X = np.append(X, np.array(random_numbers))\n",
    "y = y / 100\n",
    "X = np.reshape(X, (-1,8))"
   ]
  },
  {
   "cell_type": "code",
   "execution_count": null,
   "metadata": {},
   "outputs": [],
   "source": [
    "y"
   ]
  },
  {
   "cell_type": "code",
   "execution_count": null,
   "metadata": {},
   "outputs": [],
   "source": [
    "X"
   ]
  },
  {
   "cell_type": "code",
   "execution_count": null,
   "metadata": {},
   "outputs": [],
   "source": [
    "# load the dataset\n",
    "#dataset = loadtxt('pima-indians-diabetes.csv', delimiter=',')\n",
    "# split into input (X) and output (y) variables\n",
    "#X = dataset[:,0:8]\n",
    "#y = dataset[:,8]"
   ]
  },
  {
   "cell_type": "code",
   "execution_count": null,
   "metadata": {},
   "outputs": [],
   "source": [
    "X = [\n",
    "    [0,1,0],\n",
    "    [1,1,0],\n",
    "    [1,1,0],\n",
    "    [1,0,1],\n",
    "    [0,1,1],\n",
    "    [1,1,1],\n",
    "    [0,0,0],\n",
    "    [0,1,0],\n",
    "    [1,1,0],\n",
    "    [1,1,0],\n",
    "    [1,0,1],\n",
    "    [0,1,1],\n",
    "    [1,1,1],\n",
    "    [0,0,0],\n",
    "    [0,0,1],\n",
    "    [1,0,0]    \n",
    "    ]\n",
    "y = [1,0,0,1,0,0,0,1,0,0,1,0,0,0,0,0]"
   ]
  },
  {
   "cell_type": "code",
   "execution_count": null,
   "metadata": {},
   "outputs": [],
   "source": [
    "dataset"
   ]
  },
  {
   "cell_type": "code",
   "execution_count": null,
   "metadata": {},
   "outputs": [],
   "source": [
    "np.shape(X)"
   ]
  },
  {
   "cell_type": "code",
   "execution_count": null,
   "metadata": {},
   "outputs": [],
   "source": [
    "np.shape(y)"
   ]
  },
  {
   "cell_type": "code",
   "execution_count": null,
   "metadata": {},
   "outputs": [],
   "source": [
    "# define the keras model\n",
    "model = Sequential()\n",
    "model.add(Dense(30, input_dim=3, activation='relu'))\n",
    "model.add(Dense(3, activation='relu'))\n",
    "model.add(Dense(1, activation='sigmoid'))"
   ]
  },
  {
   "cell_type": "code",
   "execution_count": null,
   "metadata": {},
   "outputs": [],
   "source": [
    "# compile the keras model\n",
    "model.compile(loss='binary_crossentropy', optimizer='adam', metrics=['accuracy'])"
   ]
  },
  {
   "cell_type": "code",
   "execution_count": null,
   "metadata": {},
   "outputs": [],
   "source": [
    "# fit the keras model on the dataset\n",
    "model.fit(X, y, epochs=1500, batch_size=10)"
   ]
  },
  {
   "cell_type": "code",
   "execution_count": null,
   "metadata": {},
   "outputs": [],
   "source": [
    "# evaluate the keras model\n",
    "_, accuracy = model.evaluate(X, y)\n",
    "print('Accuracy: %.2f' % (accuracy*100))"
   ]
  },
  {
   "cell_type": "code",
   "execution_count": null,
   "metadata": {},
   "outputs": [],
   "source": [
    "model.predict([[1,0,1]])"
   ]
  },
  {
   "cell_type": "code",
   "execution_count": null,
   "metadata": {},
   "outputs": [],
   "source": []
  }
 ],
 "metadata": {
  "kernelspec": {
   "display_name": "Python 3 (ipykernel)",
   "language": "python",
   "name": "python3"
  },
  "language_info": {
   "codemirror_mode": {
    "name": "ipython",
    "version": 3
   },
   "file_extension": ".py",
   "mimetype": "text/x-python",
   "name": "python",
   "nbconvert_exporter": "python",
   "pygments_lexer": "ipython3",
   "version": "3.9.13"
  }
 },
 "nbformat": 4,
 "nbformat_minor": 4
}

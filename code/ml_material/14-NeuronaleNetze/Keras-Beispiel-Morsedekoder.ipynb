{
 "cells": [
  {
   "cell_type": "markdown",
   "metadata": {},
   "source": [
    "# Neuronale Netze mit Keras\n",
    "### Wir dekodieren Morsezeichen..."
   ]
  },
  {
   "cell_type": "code",
   "execution_count": null,
   "metadata": {},
   "outputs": [],
   "source": [
    "# first neural network with keras tutorial\n",
    "from numpy import loadtxt\n",
    "from keras.models import Sequential\n",
    "from keras.layers import Dense\n",
    "from keras.losses import MeanSquaredError"
   ]
  },
  {
   "cell_type": "code",
   "execution_count": null,
   "metadata": {},
   "outputs": [],
   "source": [
    "X = [\n",
    "    [1,0,1,1,1,0,1,0,1],   # .-..   Di Daa Di Dit    -> L\n",
    "    [1,0,1,0,1,1,1,0,1],   # ..-.   Di Di Da Dit     -> F\n",
    "    [1,0,1,0,0,0,0,0,0],   # ..     Di Dit           -> I\n",
    "    [1,0,1,0,1,0,1,0,0],   # ....   Di Di Di Dit     -> H\n",
    "    [1,0,1,0,1,0,1,0,1],   # .....  Di Di Di Di Dit  -> 5 \n",
    "    [1,0,0,0,0,0,0,0,0],   # .      Dit              -> E\n",
    "    [1,1,1,0,0,0,0,0,0],   # -      Daah             -> T\n",
    "    [1,1,1,0,1,0,1,0,0],   # _..    Daa Di Dit       -> D\n",
    "    [1,1,1,0,1,0,1,0,1],   # _...   Daa Di Di Dit    -> B \n",
    "    [1,1,1,0,1,1,1,0,0],   # --     Daa Daah         -> M\n",
    "    [1,1,1,0,1,1,1,0,1],   # --.    Daa Daa Dit      -> G\n",
    "    [1,1,1,1,1,1,1,1,1],   # ungültig\n",
    "    ]\n",
    "\n",
    "y = [[1,0,0,0,0,0,0,0,0,0,0,0],  # -> 'L'\n",
    "     [0,1,0,0,0,0,0,0,0,0,0,0],  # -> 'F'\n",
    "     [0,0,1,0,0,0,0,0,0,0,0,0],  # -> 'I'\n",
    "     [0,0,0,1,0,0,0,0,0,0,0,0],  # -> 'H'\n",
    "     [0,0,0,0,1,0,0,0,0,0,0,0],  # -> '5'\n",
    "     [0,0,0,0,0,1,0,0,0,0,0,0],  # -> 'E'\n",
    "     [0,0,0,0,0,0,1,0,0,0,0,0],  # -> 'T'\n",
    "     [0,0,0,0,0,0,0,1,0,0,0,0],  # -> 'D'\n",
    "     [0,0,0,0,0,0,0,0,1,0,0,0],  # -> 'B'\n",
    "     [0,0,0,0,0,0,0,0,0,1,0,0],  # -> 'M'\n",
    "     [0,0,0,0,0,0,0,0,0,0,1,0],  # -> 'G'\n",
    "     [0,0,0,0,0,0,0,0,0,0,0,1],  # ungültig\n",
    "     \n",
    "     \n",
    "    ]"
   ]
  },
  {
   "cell_type": "code",
   "execution_count": null,
   "metadata": {},
   "outputs": [],
   "source": [
    "# define the keras model\n",
    "model = Sequential()\n",
    "model.add(Dense(60, input_dim=9, activation='relu'))\n",
    "model.add(Dense(21, activation='relu'))\n",
    "model.add(Dense(12, activation='softmax'))"
   ]
  },
  {
   "cell_type": "code",
   "execution_count": null,
   "metadata": {},
   "outputs": [],
   "source": [
    "# compile the keras model\n",
    "model.compile(loss='binary_crossentropy', optimizer='adam', metrics=['accuracy'])"
   ]
  },
  {
   "cell_type": "code",
   "execution_count": null,
   "metadata": {},
   "outputs": [],
   "source": [
    "# fit the keras model on the dataset\n",
    "model.fit(X, y, epochs=600, batch_size=10)"
   ]
  },
  {
   "cell_type": "code",
   "execution_count": null,
   "metadata": {},
   "outputs": [],
   "source": [
    "# evaluate the keras model\n",
    "_, accuracy = model.evaluate(X, y)\n",
    "print('Accuracy: %.2f' % (accuracy*100))"
   ]
  },
  {
   "cell_type": "code",
   "execution_count": null,
   "metadata": {},
   "outputs": [],
   "source": [
    "#                Di x   Di  x   Di    Di   x  x      Morsecode mit dezenten Störungen...x..   \n",
    "model.predict([[.8,0.1,0.7,0.2,1,0.1,0.9,0.1,0.2]])\n",
    "# ... müsste ein \"H\" sein."
   ]
  },
  {
   "cell_type": "code",
   "execution_count": null,
   "metadata": {},
   "outputs": [],
   "source": [
    "#                Da x   Da     x  x      Morsecode mit dezenten Störungen...x..   \n",
    "model.predict([[1,0.9,1,0,0.8,1,0.7,0.1,0.9]])\n",
    "# ... müsste ein \"G\" sein."
   ]
  },
  {
   "cell_type": "code",
   "execution_count": null,
   "metadata": {},
   "outputs": [],
   "source": []
  }
 ],
 "metadata": {
  "kernelspec": {
   "display_name": "Python 3 (ipykernel)",
   "language": "python",
   "name": "python3"
  },
  "language_info": {
   "codemirror_mode": {
    "name": "ipython",
    "version": 3
   },
   "file_extension": ".py",
   "mimetype": "text/x-python",
   "name": "python",
   "nbconvert_exporter": "python",
   "pygments_lexer": "ipython3",
   "version": "3.9.13"
  }
 },
 "nbformat": 4,
 "nbformat_minor": 4
}

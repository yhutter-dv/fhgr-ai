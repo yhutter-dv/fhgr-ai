{
 "cells": [
  {
   "cell_type": "markdown",
   "metadata": {},
   "source": [
    "# Eintscheidungsgrenze bei der Logistischen Regression"
   ]
  },
  {
   "cell_type": "code",
   "execution_count": null,
   "metadata": {},
   "outputs": [],
   "source": [
    "import pandas as pd\n",
    "\n",
    "df = pd.read_csv(\"../classification.csv\")\n",
    "df.head()"
   ]
  },
  {
   "cell_type": "code",
   "execution_count": null,
   "metadata": {},
   "outputs": [],
   "source": [
    "from sklearn.model_selection import train_test_split\n",
    "\n",
    "X = df[[\"age\", \"interest\"]].values\n",
    "y = df[\"success\"].values\n",
    "\n",
    "X_train, X_test, y_train, y_test = train_test_split(X, y, random_state = 0, test_size = 0.25)"
   ]
  },
  {
   "cell_type": "code",
   "execution_count": null,
   "metadata": {},
   "outputs": [],
   "source": [
    "from sklearn.preprocessing import StandardScaler\n",
    "\n",
    "scaler = StandardScaler()\n",
    "scaler.fit(X_train)\n",
    "\n",
    "X_train = scaler.transform(X_train)\n",
    "X_test = scaler.transform(X_test)"
   ]
  },
  {
   "cell_type": "code",
   "execution_count": null,
   "metadata": {},
   "outputs": [],
   "source": [
    "from sklearn.linear_model import LogisticRegression\n",
    "\n",
    "model = LogisticRegression()\n",
    "model.fit(X_train, y_train)\n",
    "\n",
    "print(model.score(X_test, y_test))"
   ]
  },
  {
   "cell_type": "code",
   "execution_count": null,
   "metadata": {
    "scrolled": false
   },
   "outputs": [],
   "source": [
    "# Hinweis: Damit dieser Befehl funktioniert, muss die \n",
    "# \"helper.py\" - Datei im selben Ordner liegen, wie das\n",
    "# aktuelle Jupyter Notebook\n",
    "\n",
    "from helper import plot_classifier\n",
    "\n",
    "# Trainings-Daten plotten\n",
    "plot_classifier(model, X_train, y_train, proba = False, xlabel = \"Alter\", ylabel = \"Interesse\")\n",
    "#blau ist True,   rot ist False\n",
    "#Man sieht nun die Punkte vor falschem Farbhintergrund."
   ]
  },
  {
   "cell_type": "code",
   "execution_count": null,
   "metadata": {},
   "outputs": [],
   "source": [
    "#Mit proba=True kann man den Übergangsbereich visualsisieren. Das ist der Bereich, \n",
    "#wo sich das Modell sozusagen unsicherer ist als in den Bereichen entfernt von der Mitte \n",
    "plot_classifier(model, X_train, y_train, proba = True, xlabel = \"Alter\", ylabel = \"Interesse\")"
   ]
  },
  {
   "cell_type": "code",
   "execution_count": null,
   "metadata": {},
   "outputs": [],
   "source": [
    "# Testdaten plotten\n",
    "\n",
    "plot_classifier(model, X_test, y_test, proba = False, xlabel = \"Alter\", ylabel = \"Interesse\")"
   ]
  },
  {
   "cell_type": "code",
   "execution_count": null,
   "metadata": {},
   "outputs": [],
   "source": [
    "plot_classifier(model, X_test, y_test, proba = True, xlabel = \"Alter\", ylabel = \"Interesse\")"
   ]
  },
  {
   "cell_type": "code",
   "execution_count": null,
   "metadata": {},
   "outputs": [],
   "source": [
    "# ...es gibt wenige Falschzuweisungen außerhalb des Übergangsbereichs."
   ]
  },
  {
   "cell_type": "markdown",
   "metadata": {},
   "source": [
    "## Was macht helper.py eigentlich?"
   ]
  },
  {
   "cell_type": "code",
   "execution_count": null,
   "metadata": {},
   "outputs": [],
   "source": []
  },
  {
   "cell_type": "code",
   "execution_count": null,
   "metadata": {},
   "outputs": [],
   "source": [
    "#Man kann helper.py auch hier ins Notebook per copy&paste ziehen, dann können\n",
    "#wir leichter Änderungen und Einblicke realisieren\n",
    "#Achtung! - Nach dem Ausführen dieses Blocks die obigen Notes nicht mehr ausführen,\n",
    "# sonst kommt es zu einer Rekursion\n",
    "\n",
    "import matplotlib.pyplot as plt\n",
    "import seaborn as sns\n",
    "import numpy as np\n",
    "\n",
    "try:\n",
    "    #die folgenden 2 Zeilen würde man in Jupyter als \n",
    "    # %matplotlib inline usw. einfügen\n",
    "    get_ipython().magic('matplotlib inline')\n",
    "    get_ipython().magic('config InlineBackend.figure_formats = set([\"retina\"])')\n",
    "except NameError:\n",
    "    pass\n",
    "\n",
    "def plot_classifier(model, X, Z, proba = False, xlabel = None, ylabel = None):\n",
    "    # https://matplotlib.org/examples/color/colormaps_reference.html\n",
    "    plt.set_cmap(\"RdYlBu\")\n",
    "    \n",
    "    x_min = X[:, 0].min() - 1\n",
    "    x_max = X[:, 0].max() + 1\n",
    "    \n",
    "    y_min = X[:, 1].min() - 1\n",
    "    y_max = X[:, 1].max() + 1\n",
    "    \n",
    "    xx, yy = np.meshgrid(\n",
    "        np.linspace(x_min, x_max, 1000),\n",
    "        np.linspace(y_min, y_max, 1000)\n",
    "    )\n",
    "    \n",
    "    if proba:\n",
    "        zz = model.predict_proba(np.c_[xx.ravel(), yy.ravel()])[:, 1]\n",
    "        plt.imshow(zz.reshape(xx.shape), \n",
    "                   origin = \"lower\", \n",
    "                   aspect = \"auto\", \n",
    "                   extent = (x_min, x_max, y_min, y_max), \n",
    "                   vmin = 0, \n",
    "                   vmax = 1, \n",
    "                   alpha = 0.25)\n",
    "    else: \n",
    "        zz = model.predict(np.c_[xx.ravel(), yy.ravel()])\n",
    "        plt.contourf(xx, yy, zz.reshape(xx.shape), \n",
    "                     alpha = 0.25, #duchsichtig....\n",
    "                     vmin = 0, \n",
    "                     vmax = 1)\n",
    "\n",
    "    plt.scatter(X[:, 0], X[:, 1], c=Z)\n",
    "    \n",
    "    if xlabel is not None:\n",
    "        plt.xlabel(xlabel)\n",
    "       \n",
    "    if ylabel is not None:\n",
    "        plt.ylabel(ylabel)\n",
    "        \n",
    "    # Damit wird die Grafik genau so groß angezeigt wie der\n",
    "    # schattierte Farbbereich:\n",
    "    plt.xlim(x_min, x_max)\n",
    "    plt.ylim(y_min, y_max)\n",
    "    print(str(zz))\n",
    "    print(\"----\")\n",
    "    print(str(xx.shape))\n",
    "    print(\"----\")\n",
    "    print(str(zz.reshape(xx.shape)))\n",
    "    plt.show()\n",
    "    \n",
    "#<-ganz nach links!!!    \n",
    "plot_classifier(model, X_test, y_test, proba = True, xlabel = \"Alter\", ylabel = \"Interesse\")\n",
    "\n",
    "    \n"
   ]
  },
  {
   "cell_type": "code",
   "execution_count": null,
   "metadata": {},
   "outputs": [],
   "source": []
  },
  {
   "cell_type": "code",
   "execution_count": null,
   "metadata": {},
   "outputs": [],
   "source": []
  },
  {
   "cell_type": "code",
   "execution_count": null,
   "metadata": {},
   "outputs": [],
   "source": []
  },
  {
   "cell_type": "code",
   "execution_count": null,
   "metadata": {},
   "outputs": [],
   "source": [
    "#Was machen linspace und meshgrid?\n",
    "import numpy as np\n",
    "np.linspace(-3,3, 10)"
   ]
  },
  {
   "cell_type": "code",
   "execution_count": null,
   "metadata": {},
   "outputs": [],
   "source": [
    " xx, yy = np.meshgrid(\n",
    "        np.linspace(-3, 3, 10),\n",
    "        np.linspace(-3, 3, 10)\n",
    "    )\n",
    "xx "
   ]
  },
  {
   "cell_type": "code",
   "execution_count": null,
   "metadata": {
    "scrolled": true
   },
   "outputs": [],
   "source": [
    "xx.ravel() #nimmt eckicke Klammern weg"
   ]
  },
  {
   "cell_type": "code",
   "execution_count": null,
   "metadata": {
    "scrolled": true
   },
   "outputs": [],
   "source": [
    "np.c_[xx.ravel(), yy.ravel()] # \"np.c_\" baut ein Array aus allen Kombinationen von x und y\n"
   ]
  },
  {
   "cell_type": "code",
   "execution_count": null,
   "metadata": {},
   "outputs": [],
   "source": []
  },
  {
   "cell_type": "code",
   "execution_count": null,
   "metadata": {},
   "outputs": [],
   "source": []
  }
 ],
 "metadata": {
  "kernelspec": {
   "display_name": "Python 3 (ipykernel)",
   "language": "python",
   "name": "python3"
  },
  "language_info": {
   "codemirror_mode": {
    "name": "ipython",
    "version": 3
   },
   "file_extension": ".py",
   "mimetype": "text/x-python",
   "name": "python",
   "nbconvert_exporter": "python",
   "pygments_lexer": "ipython3",
   "version": "3.9.13"
  }
 },
 "nbformat": 4,
 "nbformat_minor": 2
}

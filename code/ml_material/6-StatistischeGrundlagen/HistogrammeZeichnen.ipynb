{
 "cells": [
  {
   "cell_type": "markdown",
   "metadata": {},
   "source": [
    "## Histogramme: Häufigkeitsverteilungen Visualisieren"
   ]
  },
  {
   "cell_type": "code",
   "execution_count": null,
   "metadata": {
    "scrolled": true
   },
   "outputs": [],
   "source": [
    "%matplotlib inline\n",
    "\n",
    "import matplotlib.pyplot as plt"
   ]
  },
  {
   "cell_type": "code",
   "execution_count": null,
   "metadata": {
    "scrolled": true
   },
   "outputs": [],
   "source": [
    "#plt.hist([40000, 40000, 41000, 50000, 55000, 70000, 90000], bins = 7)\n",
    "plt.hist([40000, 40000, 41000, 50000, 55000, 70000, 90000], bins = 10, color=\"yellow\")\n",
    "plt.hist([40002, 40010, 41000, 50000, 55000, 70000, 90000], bins = 100, color=\"red\")\n",
    "plt.show"
   ]
  },
  {
   "cell_type": "code",
   "execution_count": null,
   "metadata": {
    "scrolled": true
   },
   "outputs": [],
   "source": [
    "#Das könnten Gehälter von Mitarbeitern in einer Firma sein\n",
    "salaries = [40000, 40000, 41000, 50000, 55000, 70000, 90000]\n",
    "#salaries = [40000, 40000, 41000, 50000, 54000, 70000, 90000]"
   ]
  },
  {
   "cell_type": "code",
   "execution_count": null,
   "metadata": {
    "scrolled": true
   },
   "outputs": [],
   "source": [
    "#plt.hist(salaries) # Standardmäßig 10 Balken in der Breite\n",
    "plt.hist(salaries, bins = 10) # ....damit sind es 100 Balken\n",
    "plt.show()"
   ]
  },
  {
   "cell_type": "code",
   "execution_count": null,
   "metadata": {
    "scrolled": true
   },
   "outputs": [],
   "source": []
  }
 ],
 "metadata": {
  "kernelspec": {
   "display_name": "Python 3 (ipykernel)",
   "language": "python",
   "name": "python3"
  },
  "language_info": {
   "codemirror_mode": {
    "name": "ipython",
    "version": 3
   },
   "file_extension": ".py",
   "mimetype": "text/x-python",
   "name": "python",
   "nbconvert_exporter": "python",
   "pygments_lexer": "ipython3",
   "version": "3.9.13"
  }
 },
 "nbformat": 4,
 "nbformat_minor": 2
}

{
 "cells": [
  {
   "cell_type": "markdown",
   "metadata": {},
   "source": [
    "## Korrelationsanalyse"
   ]
  },
  {
   "cell_type": "code",
   "execution_count": null,
   "metadata": {},
   "outputs": [],
   "source": [
    "from skimage.feature import match_template\n",
    "import numpy as np\n",
    "\n",
    "match_template?"
   ]
  },
  {
   "cell_type": "code",
   "execution_count": null,
   "metadata": {},
   "outputs": [],
   "source": [
    "#zunächst: Eindimensional...\n",
    "match_template(np.array([[0,0,0,1,2,6,2,1,0,0,0,0,0]]), np.array([[-3,-3,-6,-8,-10,-10,-10,-10,-10,0,0,0,0]]))"
   ]
  },
  {
   "cell_type": "code",
   "execution_count": null,
   "metadata": {},
   "outputs": [],
   "source": [
    "match_template(np.array([[0,-2,0,0,0,-1,0,0,0,0,0,0,0]]), np.array([[0,-0.6,0,0,0,-0.3,0,0,0,0,0,0,0]]))"
   ]
  },
  {
   "cell_type": "code",
   "execution_count": null,
   "metadata": {},
   "outputs": [],
   "source": [
    "match_template(np.array([[0,0,0,0,0,0,0,0,0,0,0.11,0.28,0.42,0,0,0.5,0,0,0,0,0,0,0,0,0,0,0,0]]), np.array([[1,3,4,0,0,5]]))"
   ]
  },
  {
   "cell_type": "code",
   "execution_count": null,
   "metadata": {},
   "outputs": [],
   "source": [
    "match_template(np.array([[0,1,4,1,0,0,0,0,0,1,0,0,0]]), np.array([[0,1,0]]))"
   ]
  },
  {
   "cell_type": "code",
   "execution_count": null,
   "metadata": {},
   "outputs": [],
   "source": [
    "match_template(np.array([[0,0,0,0,0,0,0,1,5,10,5,1,0]]), np.array([[0,1,0]]))"
   ]
  },
  {
   "cell_type": "code",
   "execution_count": null,
   "metadata": {},
   "outputs": [],
   "source": [
    "match_template(np.array([[0,0,2,-2,0,0,0,0,1,5,10,5,1]]), np.array([[0,2,-2,0,0,0,0,1,5,10,5,1,0]]))"
   ]
  },
  {
   "cell_type": "code",
   "execution_count": null,
   "metadata": {},
   "outputs": [],
   "source": [
    "import statsmodels.api as sm\n",
    "\n",
    "#calculate cross correlation\n",
    "sm.tsa.stattools.ccf(np.array([0,2,5,2,0,1,0]), np.array([0,0,0,1,5,10,5,1,0,0,0,2,5,2]), adjusted=False)"
   ]
  },
  {
   "cell_type": "code",
   "execution_count": null,
   "metadata": {},
   "outputs": [],
   "source": [
    "#jetzt: Zweidimensional...\n",
    "import numpy as np\n",
    "template = np.zeros((3, 3))\n",
    "template[1, 1] = 1\n",
    "template\n",
    "\n"
   ]
  },
  {
   "cell_type": "code",
   "execution_count": null,
   "metadata": {},
   "outputs": [],
   "source": [
    "image = np.zeros((6, 6))\n",
    "image[1, 1] = 1\n",
    "image[4, 4] = -1\n",
    "image\n"
   ]
  },
  {
   "cell_type": "code",
   "execution_count": null,
   "metadata": {},
   "outputs": [],
   "source": [
    "result = match_template(image, template)\n",
    "np.round(result, 3)\n"
   ]
  },
  {
   "cell_type": "code",
   "execution_count": null,
   "metadata": {},
   "outputs": [],
   "source": [
    "\n",
    "result = match_template(image, template, pad_input=True)\n",
    "np.round(result, 3)\n"
   ]
  },
  {
   "cell_type": "markdown",
   "metadata": {},
   "source": [
    "### Mustersuche in Bilddateien"
   ]
  },
  {
   "cell_type": "code",
   "execution_count": null,
   "metadata": {},
   "outputs": [],
   "source": [
    "import numpy as np\n",
    "import matplotlib.pyplot as plt\n",
    "\n",
    "from skimage import data\n",
    "from skimage.feature import match_template\n",
    "\n",
    "\n",
    "image = data.coins()\n",
    "coin = image[170:220, 75:130]\n",
    "\n",
    "result = match_template(image, coin)\n",
    "ij = np.unravel_index(np.argmax(result), result.shape)\n",
    "x, y = ij[::-1]\n",
    "\n",
    "fig, (ax1, ax2, ax3, ax4) = plt.subplots(ncols=4, figsize=(18, 6))\n",
    "\n",
    "ax1.imshow(coin)\n",
    "ax1.set_axis_off()\n",
    "ax1.set_title('template')\n",
    "\n",
    "ax2.imshow(image)\n",
    "ax2.set_axis_off()\n",
    "ax2.set_title('image')\n",
    "# highlight matched region\n",
    "hcoin, wcoin = coin.shape\n",
    "rect = plt.Rectangle((x, y), wcoin, hcoin, edgecolor='r', facecolor='none')\n",
    "ax2.add_patch(rect)\n",
    "\n",
    "ax3.imshow(result)\n",
    "ax3.set_axis_off()\n",
    "ax3.set_title('`match_template`\\nresult')\n",
    "# highlight matched region\n",
    "ax3.autoscale(False)\n",
    "ax3.plot(x, y, 'o', markeredgecolor='r', markerfacecolor='none', markersize=20)\n",
    "\n",
    "#ax4.imshow(coin)\n",
    "ax4.set_axis_off()\n",
    "ax4.set_title('mein spezielles template')\n",
    "ax4.plot(x, y, 'o', markeredgecolor='r', markerfacecolor='none', markersize=20)\n",
    "plt.show()"
   ]
  },
  {
   "cell_type": "code",
   "execution_count": null,
   "metadata": {},
   "outputs": [],
   "source": [
    "import numpy as np\n",
    "import matplotlib.pyplot as plt\n",
    "\n",
    "from skimage import data\n",
    "from skimage.feature import match_template\n",
    "\n",
    "\n",
    "image = data.coins()\n",
    "coin = image[170:220, 75:130]"
   ]
  },
  {
   "cell_type": "code",
   "execution_count": null,
   "metadata": {},
   "outputs": [],
   "source": [
    "ax1.imshow(coin)"
   ]
  },
  {
   "cell_type": "code",
   "execution_count": null,
   "metadata": {},
   "outputs": [],
   "source": [
    "plt.show()"
   ]
  },
  {
   "cell_type": "code",
   "execution_count": null,
   "metadata": {},
   "outputs": [],
   "source": []
  }
 ],
 "metadata": {
  "kernelspec": {
   "display_name": "Python 3 (ipykernel)",
   "language": "python",
   "name": "python3"
  },
  "language_info": {
   "codemirror_mode": {
    "name": "ipython",
    "version": 3
   },
   "file_extension": ".py",
   "mimetype": "text/x-python",
   "name": "python",
   "nbconvert_exporter": "python",
   "pygments_lexer": "ipython3",
   "version": "3.9.13"
  }
 },
 "nbformat": 4,
 "nbformat_minor": 4
}

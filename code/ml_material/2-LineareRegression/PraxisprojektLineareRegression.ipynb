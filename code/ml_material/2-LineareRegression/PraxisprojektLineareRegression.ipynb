{
 "cells": [
  {
   "cell_type": "markdown",
   "metadata": {},
   "source": [
    "### Praxisprojekt: Lineare Regression"
   ]
  },
  {
   "cell_type": "code",
   "execution_count": 1,
   "metadata": {},
   "outputs": [],
   "source": [
    "import pandas as pd\n",
    "\n",
    "df = pd.read_csv(\"../autos_prepared.csv\")"
   ]
  },
  {
   "cell_type": "code",
   "execution_count": 2,
   "metadata": {},
   "outputs": [
    {
     "data": {
      "text/html": [
       "<div>\n",
       "<style scoped>\n",
       "    .dataframe tbody tr th:only-of-type {\n",
       "        vertical-align: middle;\n",
       "    }\n",
       "\n",
       "    .dataframe tbody tr th {\n",
       "        vertical-align: top;\n",
       "    }\n",
       "\n",
       "    .dataframe thead th {\n",
       "        text-align: right;\n",
       "    }\n",
       "</style>\n",
       "<table border=\"1\" class=\"dataframe\">\n",
       "  <thead>\n",
       "    <tr style=\"text-align: right;\">\n",
       "      <th></th>\n",
       "      <th>price</th>\n",
       "      <th>yearOfRegistration</th>\n",
       "      <th>powerPS</th>\n",
       "      <th>kilometer</th>\n",
       "      <th>model</th>\n",
       "      <th>fuelType</th>\n",
       "      <th>name</th>\n",
       "    </tr>\n",
       "  </thead>\n",
       "  <tbody>\n",
       "    <tr>\n",
       "      <th>0</th>\n",
       "      <td>1450</td>\n",
       "      <td>1997</td>\n",
       "      <td>75</td>\n",
       "      <td>90000</td>\n",
       "      <td>andere</td>\n",
       "      <td>benzin</td>\n",
       "      <td>Toyota_Toyota_Starlet_1._Hand__TÜV_neu</td>\n",
       "    </tr>\n",
       "    <tr>\n",
       "      <th>1</th>\n",
       "      <td>13100</td>\n",
       "      <td>2005</td>\n",
       "      <td>280</td>\n",
       "      <td>5000</td>\n",
       "      <td>golf</td>\n",
       "      <td>benzin</td>\n",
       "      <td>R32_tauschen_oder_kaufen</td>\n",
       "    </tr>\n",
       "    <tr>\n",
       "      <th>2</th>\n",
       "      <td>4500</td>\n",
       "      <td>2008</td>\n",
       "      <td>87</td>\n",
       "      <td>90000</td>\n",
       "      <td>yaris</td>\n",
       "      <td>benzin</td>\n",
       "      <td>Toyota_Yaris_1.3_VVT_i</td>\n",
       "    </tr>\n",
       "    <tr>\n",
       "      <th>3</th>\n",
       "      <td>6000</td>\n",
       "      <td>2009</td>\n",
       "      <td>177</td>\n",
       "      <td>125000</td>\n",
       "      <td>3er</td>\n",
       "      <td>diesel</td>\n",
       "      <td>320_Alpinweiss_Kohlenstoff</td>\n",
       "    </tr>\n",
       "    <tr>\n",
       "      <th>4</th>\n",
       "      <td>3990</td>\n",
       "      <td>1999</td>\n",
       "      <td>118</td>\n",
       "      <td>90000</td>\n",
       "      <td>3er</td>\n",
       "      <td>benzin</td>\n",
       "      <td>BMW_318i_E46_+++_1._Hand_+++_Liebhaberfahrzeug</td>\n",
       "    </tr>\n",
       "    <tr>\n",
       "      <th>...</th>\n",
       "      <td>...</td>\n",
       "      <td>...</td>\n",
       "      <td>...</td>\n",
       "      <td>...</td>\n",
       "      <td>...</td>\n",
       "      <td>...</td>\n",
       "      <td>...</td>\n",
       "    </tr>\n",
       "    <tr>\n",
       "      <th>245</th>\n",
       "      <td>23400</td>\n",
       "      <td>2014</td>\n",
       "      <td>160</td>\n",
       "      <td>40000</td>\n",
       "      <td>kaefer</td>\n",
       "      <td>benzin</td>\n",
       "      <td>Volkswagen_1.4_TSI_DSG_R_Line</td>\n",
       "    </tr>\n",
       "    <tr>\n",
       "      <th>246</th>\n",
       "      <td>9000</td>\n",
       "      <td>2014</td>\n",
       "      <td>67</td>\n",
       "      <td>20000</td>\n",
       "      <td>i_reihe</td>\n",
       "      <td>benzin</td>\n",
       "      <td>Hyundai_i10_1.0_Fifa_World_Cup_Edition</td>\n",
       "    </tr>\n",
       "    <tr>\n",
       "      <th>247</th>\n",
       "      <td>5500</td>\n",
       "      <td>2009</td>\n",
       "      <td>109</td>\n",
       "      <td>125000</td>\n",
       "      <td>ceed</td>\n",
       "      <td>benzin</td>\n",
       "      <td>Kia_Ceed_1.4_/_TÜV_Neu</td>\n",
       "    </tr>\n",
       "    <tr>\n",
       "      <th>248</th>\n",
       "      <td>1600</td>\n",
       "      <td>2002</td>\n",
       "      <td>75</td>\n",
       "      <td>125000</td>\n",
       "      <td>clio</td>\n",
       "      <td>benzin</td>\n",
       "      <td>Renault_Clio_1.2_16V</td>\n",
       "    </tr>\n",
       "    <tr>\n",
       "      <th>249</th>\n",
       "      <td>11750</td>\n",
       "      <td>2014</td>\n",
       "      <td>109</td>\n",
       "      <td>20000</td>\n",
       "      <td>rio</td>\n",
       "      <td>benzin</td>\n",
       "      <td>Kia_Rio_Dream_Team_Edition_/_7_Jahren_Inspekti...</td>\n",
       "    </tr>\n",
       "  </tbody>\n",
       "</table>\n",
       "<p>250 rows × 7 columns</p>\n",
       "</div>"
      ],
      "text/plain": [
       "     price  yearOfRegistration  powerPS  kilometer    model fuelType  \\\n",
       "0     1450                1997       75      90000   andere   benzin   \n",
       "1    13100                2005      280       5000     golf   benzin   \n",
       "2     4500                2008       87      90000    yaris   benzin   \n",
       "3     6000                2009      177     125000      3er   diesel   \n",
       "4     3990                1999      118      90000      3er   benzin   \n",
       "..     ...                 ...      ...        ...      ...      ...   \n",
       "245  23400                2014      160      40000   kaefer   benzin   \n",
       "246   9000                2014       67      20000  i_reihe   benzin   \n",
       "247   5500                2009      109     125000     ceed   benzin   \n",
       "248   1600                2002       75     125000     clio   benzin   \n",
       "249  11750                2014      109      20000      rio   benzin   \n",
       "\n",
       "                                                  name  \n",
       "0               Toyota_Toyota_Starlet_1._Hand__TÜV_neu  \n",
       "1                             R32_tauschen_oder_kaufen  \n",
       "2                               Toyota_Yaris_1.3_VVT_i  \n",
       "3                           320_Alpinweiss_Kohlenstoff  \n",
       "4       BMW_318i_E46_+++_1._Hand_+++_Liebhaberfahrzeug  \n",
       "..                                                 ...  \n",
       "245                      Volkswagen_1.4_TSI_DSG_R_Line  \n",
       "246             Hyundai_i10_1.0_Fifa_World_Cup_Edition  \n",
       "247                             Kia_Ceed_1.4_/_TÜV_Neu  \n",
       "248                               Renault_Clio_1.2_16V  \n",
       "249  Kia_Rio_Dream_Team_Edition_/_7_Jahren_Inspekti...  \n",
       "\n",
       "[250 rows x 7 columns]"
      ]
     },
     "execution_count": 2,
     "metadata": {},
     "output_type": "execute_result"
    }
   ],
   "source": [
    "df"
   ]
  },
  {
   "cell_type": "markdown",
   "metadata": {},
   "source": [
    "## Teil 1: Scatter-Plot zeichnen"
   ]
  },
  {
   "cell_type": "code",
   "execution_count": 3,
   "metadata": {},
   "outputs": [
    {
     "data": {
      "image/png": "[encoded data removed]",
      "text/plain": [
       "<Figure size 640x480 with 1 Axes>"
      ]
     },
     "metadata": {},
     "output_type": "display_data"
    }
   ],
   "source": [
    "%matplotlib inline\n",
    "import matplotlib.pyplot as plt\n",
    "\n",
    "plt.scatter(df[\"kilometer\"], df[\"price\"] )\n",
    "plt.show()"
   ]
  },
  {
   "cell_type": "markdown",
   "metadata": {},
   "source": [
    "## Teil 2: Lineare Regression ausführen"
   ]
  },
  {
   "cell_type": "code",
   "execution_count": 4,
   "metadata": {},
   "outputs": [
    {
     "ename": "ModuleNotFoundError",
     "evalue": "No module named 'sklearn'",
     "output_type": "error",
     "traceback": [
      "\u001b[1;31m---------------------------------------------------------------------------\u001b[0m",
      "\u001b[1;31mModuleNotFoundError\u001b[0m                       Traceback (most recent call last)",
      "Cell \u001b[1;32mIn[4], line 1\u001b[0m\n\u001b[1;32m----> 1\u001b[0m \u001b[38;5;28;01mfrom\u001b[39;00m \u001b[38;5;21;01msklearn\u001b[39;00m\u001b[38;5;21;01m.\u001b[39;00m\u001b[38;5;21;01mlinear_model\u001b[39;00m \u001b[38;5;28;01mimport\u001b[39;00m LinearRegression\n\u001b[0;32m      3\u001b[0m model \u001b[38;5;241m=\u001b[39m LinearRegression()\n\u001b[0;32m      4\u001b[0m model\u001b[38;5;241m.\u001b[39mfit(df[[\u001b[38;5;124m\"\u001b[39m\u001b[38;5;124mkilometer\u001b[39m\u001b[38;5;124m\"\u001b[39m]], df[[\u001b[38;5;124m\"\u001b[39m\u001b[38;5;124mprice\u001b[39m\u001b[38;5;124m\"\u001b[39m]])\n",
      "\u001b[1;31mModuleNotFoundError\u001b[0m: No module named 'sklearn'"
     ]
    }
   ],
   "source": [
    "from sklearn.linear_model import LinearRegression\n",
    "\n",
    "model = LinearRegression()\n",
    "model.fit(df[[\"kilometer\"]], df[[\"price\"]])\n",
    "\n",
    "print(\"Intercept: \" + str(model.intercept_))\n",
    "print(\"Coef: \" + str(model.coef_))\n",
    "\n",
    "# 15988.72674252 - 0.0879714 * [Anzahl km] "
   ]
  },
  {
   "cell_type": "markdown",
   "metadata": {},
   "source": [
    "### Teil 3: Werte für unsere Linie vorhersagen"
   ]
  },
  {
   "cell_type": "code",
   "execution_count": null,
   "metadata": {},
   "outputs": [],
   "source": [
    "predicted = model.predict([[0], [130000]])\n",
    "print(predicted)"
   ]
  },
  {
   "cell_type": "markdown",
   "metadata": {},
   "source": [
    "### Teil 4: Linie in Grafik einzeichnen"
   ]
  },
  {
   "cell_type": "code",
   "execution_count": null,
   "metadata": {},
   "outputs": [],
   "source": [
    "%matplotlib inline\n",
    "import matplotlib.pyplot as plt\n",
    "\n",
    "plt.scatter(df[\"kilometer\"], df[\"price\"])\n",
    "plt.plot([0, 130000], predicted, color=\"red\")\n",
    "plt.show()"
   ]
  },
  {
   "cell_type": "markdown",
   "metadata": {},
   "source": [
    "### Teil 5: Vorhersage für 50.000km machen"
   ]
  },
  {
   "cell_type": "code",
   "execution_count": null,
   "metadata": {},
   "outputs": [],
   "source": [
    "model.predict([[50000]])"
   ]
  },
  {
   "cell_type": "code",
   "execution_count": null,
   "metadata": {},
   "outputs": [],
   "source": [
    "#Was macht 1km Fahrleisung am Preis?\n",
    "model.predict([[50100]])\n"
   ]
  },
  {
   "cell_type": "code",
   "execution_count": null,
   "metadata": {},
   "outputs": [],
   "source": [
    "11590.15673393 - 11590.06876253\n",
    "# pro Kilometer...."
   ]
  },
  {
   "cell_type": "code",
   "execution_count": null,
   "metadata": {},
   "outputs": [],
   "source": []
  }
 ],
 "metadata": {
  "kernelspec": {
   "display_name": "venv",
   "language": "python",
   "name": "venv"
  },
  "language_info": {
   "codemirror_mode": {
    "name": "ipython",
    "version": 3
   },
   "file_extension": ".py",
   "mimetype": "text/x-python",
   "name": "python",
   "nbconvert_exporter": "python",
   "pygments_lexer": "ipython3",
   "version": "3.11.7"
  }
 },
 "nbformat": 4,
 "nbformat_minor": 4
}

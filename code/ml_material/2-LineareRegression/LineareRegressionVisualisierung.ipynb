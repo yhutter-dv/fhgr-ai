{
 "cells": [
  {
   "cell_type": "markdown",
   "id": "9ca51f5d",
   "metadata": {},
   "source": [
    "# Lineare Regression - Visualisierung des evolutionären Verfahrens\n"
   ]
  },
  {
   "cell_type": "code",
   "execution_count": null,
   "id": "6006998e",
   "metadata": {
    "scrolled": true
   },
   "outputs": [],
   "source": [
    "import ipywidgets as widgets\n",
    "import pandas as pd\n",
    "import matplotlib.pyplot as plt\n",
    "import time\n",
    "from sklearn.metrics import mean_squared_error"
   ]
  },
  {
   "cell_type": "markdown",
   "id": "5c4e7482",
   "metadata": {},
   "source": [
    "### Import Dataframe"
   ]
  },
  {
   "cell_type": "code",
   "execution_count": null,
   "id": "7253f070",
   "metadata": {
    "scrolled": true
   },
   "outputs": [],
   "source": [
    "df = pd.read_csv(\"../wohnungspreise.csv\")\n",
    "df.head()"
   ]
  },
  {
   "cell_type": "markdown",
   "id": "d579a302",
   "metadata": {},
   "source": [
    "### Gradient Descent Algorithm"
   ]
  },
  {
   "cell_type": "code",
   "execution_count": null,
   "id": "b85dbf0a",
   "metadata": {
    "scrolled": true
   },
   "outputs": [],
   "source": [
    "def gradient_descent(current_a, current_b, df, learning_rate, epoch):\n",
    "    gradient_a = 0\n",
    "    gradient_b = 0\n",
    "    \n",
    "    df_len = len(df)\n",
    "    for i in range(df_len):\n",
    "        x = df.iloc[i].Quadratmeter\n",
    "        y = df.iloc[i].Verkaufspreis\n",
    "        \n",
    "        gradient_a += -(2 / df_len) * x * (y - (current_a * x + current_b))\n",
    "        gradient_b += -(2 / df_len) * (y - (current_a * x + current_b))\n",
    "    \n",
    "    print('_' * 50)\n",
    "    print('EPOCH:', epoch)\n",
    "    print('Gradient a:', gradient_a)\n",
    "    print('Gradient b:', gradient_b)\n",
    "        \n",
    "    a = current_a - (gradient_a * learning_rate)\n",
    "    b = current_b - (gradient_b * learning_rate)\n",
    "    \n",
    "    return a, b"
   ]
  },
  {
   "cell_type": "markdown",
   "id": "7f4417ab",
   "metadata": {},
   "source": [
    "### Hyperparameters"
   ]
  },
  {
   "cell_type": "code",
   "execution_count": null,
   "id": "a7579002",
   "metadata": {
    "scrolled": true
   },
   "outputs": [],
   "source": [
    "learning_rate_slider = widgets.FloatSlider(value=0.00005, min=0.00001, max=0.00030, step=0.00001,\n",
    "                                           description='Learning Rate:', \n",
    "                                           readout_format='.5f', \n",
    "                                           style={'description_width': 'initial'})\n",
    "epoch_slider = widgets.IntSlider(value=10, min=1, max=20, step=1, \n",
    "                                 description='Epochs:', \n",
    "                                 style={'description_width': 'initial'})\n",
    "\n",
    "display(learning_rate_slider)\n",
    "display(epoch_slider)"
   ]
  },
  {
   "cell_type": "markdown",
   "id": "f7c914bf",
   "metadata": {},
   "source": [
    "### Visualisierung"
   ]
  },
  {
   "cell_type": "code",
   "execution_count": null,
   "id": "2d7cafd0",
   "metadata": {
    "scrolled": false
   },
   "outputs": [],
   "source": [
    "%matplotlib notebook\n",
    "\n",
    "# Config / Start Values\n",
    "a = 0\n",
    "b = 0\n",
    "learning_rate = learning_rate_slider.value\n",
    "epochs = epoch_slider.value\n",
    "\n",
    "# Setup Matplotlib Graph\n",
    "fig, (ax1, ax2) = plt.subplots(1, 2, figsize=(10, 5))\n",
    "\n",
    "# Initialize a list to store MSE values\n",
    "mse_history = []\n",
    "\n",
    "# Visualizing Regression and MSE over several epochs\n",
    "for i in range(epochs):\n",
    "    a, b = gradient_descent(a, b, df, learning_rate, i + 1)\n",
    "    \n",
    "    mse = mean_squared_error(df['Verkaufspreis'], a * df['Quadratmeter'] + b)\n",
    "    \n",
    "    # Append the current MSE value to the history\n",
    "    mse_history.append(mse)\n",
    "    \n",
    "    # Plot Linear Regression\n",
    "    ax1.clear()\n",
    "    ax1.set_ylim(0,650000)\n",
    "    ax1.plot(list(range(0, 200)), [a * x + b for x in range(0, 200)])\n",
    "    ax1.scatter(df.Quadratmeter, df.Verkaufspreis, color='black')\n",
    "    ax1.set_title('Linear Regression')\n",
    "    \n",
    "    # Plot MSE history\n",
    "    ax2.clear()\n",
    "    ax2.plot(list(range(i + 1)), mse_history, color='red')\n",
    "    ax2.set_title('Mean Squared Error')\n",
    "    \n",
    "    fig.canvas.draw()\n",
    "    \n",
    "    print('a:', str(a))\n",
    "    print('b:', str(b))\n",
    "    \n",
    "    time.sleep(1)"
   ]
  },
  {
   "cell_type": "code",
   "execution_count": null,
   "id": "d9d415f5",
   "metadata": {},
   "outputs": [],
   "source": []
  },
  {
   "cell_type": "code",
   "execution_count": null,
   "id": "66288cfe",
   "metadata": {},
   "outputs": [],
   "source": []
  }
 ],
 "metadata": {
  "kernelspec": {
   "display_name": "Python 3 (ipykernel)",
   "language": "python",
   "name": "python3"
  },
  "language_info": {
   "codemirror_mode": {
    "name": "ipython",
    "version": 3
   },
   "file_extension": ".py",
   "mimetype": "text/x-python",
   "name": "python",
   "nbconvert_exporter": "python",
   "pygments_lexer": "ipython3",
   "version": "3.9.13"
  }
 },
 "nbformat": 4,
 "nbformat_minor": 5
}

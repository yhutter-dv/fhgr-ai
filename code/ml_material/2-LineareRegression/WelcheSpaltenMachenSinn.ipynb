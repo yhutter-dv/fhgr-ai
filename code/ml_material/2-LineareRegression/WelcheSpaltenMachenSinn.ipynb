{
 "cells": [
  {
   "cell_type": "markdown",
   "metadata": {},
   "source": [
    "# Welche Spalten ????"
   ]
  },
  {
   "cell_type": "code",
   "execution_count": null,
   "metadata": {
    "scrolled": true
   },
   "outputs": [],
   "source": [
    "import pandas as pd\n",
    "\n",
    "df = pd.read_csv(\"../hotels.csv\")\n",
    "\n",
    "df.head()"
   ]
  },
  {
   "cell_type": "code",
   "execution_count": null,
   "metadata": {},
   "outputs": [],
   "source": [
    "\n",
    "# Werte aus DataFrame extrahieren\n",
    "X = df[[\"Quadratmeter\"]].values\n",
    "Y = df[[\"Preis in Mio\"]].values\n",
    "\n",
    "# Train / Test\n",
    "from sklearn.model_selection import train_test_split\n",
    "\n",
    "X_train, X_test, y_train, y_test = train_test_split(X, Y, random_state = 0, test_size = 0.25)\n",
    "\n",
    "# Lineare Regression\n",
    "from sklearn.linear_model import LinearRegression\n",
    "\n",
    "model = LinearRegression()\n",
    "model.fit(X_train, y_train)\n",
    "\n",
    "model.score(X_test, y_test)\n",
    "#... ist jedes Mal das Selbe Ergebnis\n",
    "\n"
   ]
  },
  {
   "cell_type": "code",
   "execution_count": null,
   "metadata": {},
   "outputs": [],
   "source": [
    "# Wirklich zufällig!\n",
    "# Werte aus DataFrame extrahieren\n",
    "X = df[[\"Quadratmeter\"]].values\n",
    "Y = df[[\"Preis in Mio\"]].values\n",
    "\n",
    "# Train / Test\n",
    "from sklearn.model_selection import train_test_split\n",
    "#...jetzt ohne ramdom_state=0\n",
    "X_train, X_test, y_train, y_test = train_test_split(X, Y, test_size = 0.25)\n",
    "\n",
    "# Lineare Regression\n",
    "from sklearn.linear_model import LinearRegression\n",
    "\n",
    "model = LinearRegression()\n",
    "model.fit(X_train, y_train)\n",
    "\n",
    "model.score(X_test, y_test)\n",
    "#... jedes Mal ein anderes Ergebnis - jetzt ist der Split wirklich zufällig, \n",
    "#...aber was ist der realistische Wert für R2 ???\n"
   ]
  },
  {
   "cell_type": "code",
   "execution_count": null,
   "metadata": {},
   "outputs": [],
   "source": [
    "scores = []\n",
    "\n",
    "for i in range(0, 10000):\n",
    "    # Werte aus DataFrame extrahieren\n",
    "    X = df[[\"Quadratmeter\"]].values\n",
    "    Y = df[[\"Preis in Mio\"]].values\n",
    "\n",
    "    # Train / Test\n",
    "    from sklearn.model_selection import train_test_split\n",
    "\n",
    "    X_train, X_test, y_train, y_test = train_test_split(X, Y, test_size = 0.25)\n",
    "\n",
    "    # Lineare Regression\n",
    "    from sklearn.linear_model import LinearRegression\n",
    "\n",
    "    model = LinearRegression()\n",
    "    model.fit(X_train, y_train)\n",
    "\n",
    "    #print(model.score(X_test, y_test))\n",
    "    scores.append(model.score(X_test, y_test))\n",
    "print(sum(scores) / len(scores))"
   ]
  },
  {
   "cell_type": "markdown",
   "metadata": {},
   "source": [
    "### Ist eine zusätzliche Spalte Gewinn hier zuträglich ???"
   ]
  },
  {
   "cell_type": "code",
   "execution_count": null,
   "metadata": {
    "scrolled": true
   },
   "outputs": [],
   "source": [
    "scores = []\n",
    "\n",
    "for i in range(0, 10000):\n",
    "    # Werte aus DataFrame extrahieren\n",
    "    X = df[[\"Gewinn\", \"Quadratmeter\"]].values\n",
    "    Y = df[[\"Preis in Mio\"]].values\n",
    "\n",
    "    # Train / Test\n",
    "    from sklearn.model_selection import train_test_split\n",
    "\n",
    "    X_train, X_test, y_train, y_test = train_test_split(X, Y, test_size = 0.25)\n",
    "\n",
    "    # Lineare Regression\n",
    "    from sklearn.linear_model import LinearRegression\n",
    "\n",
    "    model = LinearRegression()\n",
    "    model.fit(X_train, y_train)\n",
    "\n",
    "    #print(model.score(X_test, y_test))\n",
    "    scores.append(model.score(X_test, y_test))\n",
    "\n",
    "print(sum(scores) / len(scores))"
   ]
  },
  {
   "cell_type": "code",
   "execution_count": null,
   "metadata": {},
   "outputs": [],
   "source": [
    "#eher wohl nicht... Das bringt also kaum eine tatsächliche Verbesserung!!!"
   ]
  },
  {
   "cell_type": "code",
   "execution_count": null,
   "metadata": {},
   "outputs": [],
   "source": []
  }
 ],
 "metadata": {
  "kernelspec": {
   "display_name": "Python 3 (ipykernel)",
   "language": "python",
   "name": "python3"
  },
  "language_info": {
   "codemirror_mode": {
    "name": "ipython",
    "version": 3
   },
   "file_extension": ".py",
   "mimetype": "text/x-python",
   "name": "python",
   "nbconvert_exporter": "python",
   "pygments_lexer": "ipython3",
   "version": "3.9.13"
  }
 },
 "nbformat": 4,
 "nbformat_minor": 2
}

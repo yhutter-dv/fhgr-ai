{
 "cells": [
  {
   "cell_type": "markdown",
   "id": "9750712f",
   "metadata": {},
   "source": [
    "# Analyse von Zeitreihen mit saisonalen Mustern\n"
   ]
  },
  {
   "cell_type": "markdown",
   "id": "512cfb78",
   "metadata": {},
   "source": [
    "### Zunächst: Dekomposition von Trend, Saisonalen Anteilen und Zufalls-(Rausch-)anteilen"
   ]
  },
  {
   "cell_type": "code",
   "execution_count": null,
   "id": "3d266239",
   "metadata": {},
   "outputs": [],
   "source": [
    "import numpy as np\n",
    "import pandas as pd\n",
    "import matplotlib.pyplot as plt\n",
    "\n",
    "# Erstellen einer Beispiel-Zeitreihe\n",
    "np.random.seed(0)\n",
    "n = 120\n",
    "t = np.arange(n)\n",
    "trend = 0.1 * t\n",
    "seasonal_pattern = 10 * np.sin(2 * np.pi * t / 12)  # Monatlich mit einer 12-monatigen Periode\n",
    "noise = np.random.normal(0, 1, n)\n",
    "time_series = trend + seasonal_pattern + noise\n",
    "\n",
    "# Konvertieren der Zeitreihe in ein Pandas DataFrame\n",
    "data = pd.DataFrame({'TimeSeries': time_series}, index=pd.date_range(start='2000-01-01', periods=n, freq='M'))\n",
    "\n",
    "# Additive Trenddekomposition\n",
    "from statsmodels.tsa.seasonal import seasonal_decompose\n",
    "result = seasonal_decompose(data, model='additive')\n",
    "\n",
    "# Visualisieren der Komponenten\n",
    "plt.figure(figsize=(12, 6))\n",
    "plt.subplot(411)\n",
    "plt.plot(data['TimeSeries'], label='Originalzeitreihe')\n",
    "plt.legend()\n",
    "plt.subplot(412)\n",
    "plt.plot(result.trend, label='Trend')\n",
    "plt.legend()\n",
    "plt.subplot(413)\n",
    "plt.plot(result.seasonal, label='Saison')\n",
    "plt.legend()\n",
    "plt.subplot(414)\n",
    "plt.plot(result.resid, label='Rest')\n",
    "plt.legend()\n",
    "plt.tight_layout()\n",
    "plt.show()\n"
   ]
  },
  {
   "cell_type": "markdown",
   "id": "75939040",
   "metadata": {},
   "source": [
    "# Prognosemodelle"
   ]
  },
  {
   "cell_type": "markdown",
   "id": "9b6e76d9",
   "metadata": {},
   "source": [
    "### Beispiel zu Autoregression AR(1)"
   ]
  },
  {
   "cell_type": "code",
   "execution_count": null,
   "id": "9b38dd05",
   "metadata": {},
   "outputs": [],
   "source": [
    "import numpy as np\n",
    "from sklearn.linear_model import LinearRegression\n",
    "import matplotlib.pyplot as plt\n",
    "\n",
    "# Beispielzeitreihendaten\n",
    "time_series = np.array([10, 12, 15, 18, 20, 22, 25, 28, 30, 32])\n",
    "\n",
    "# Verzögerte Werte für die Autoregression erstellen (zum Beispiel, verwenden wir die letzten 3 Werte)\n",
    "X = []\n",
    "y = []\n",
    "for i in range(lags, len(time_series)):\n",
    "    X.append(time_series[i-1:i])  #Vom Vorgänger....\n",
    "    y.append(time_series[i])   #...soll auf den Nachfolger geschlossen werden können.\n",
    "\n",
    "X = np.array(X)\n",
    "y = np.array(y)\n",
    "\n",
    "# Linear Regression Modell anpassen\n",
    "model = LinearRegression()\n",
    "model.fit(X, y)\n",
    "\n",
    "# Vorhersagen für den nächsten Zeitschritt\n",
    "next_step = np.array([time_series[-lags:]])\n",
    "predicted_value = model.predict(next_step)\n",
    "\n",
    "# Plotten der Zeitreihe und Vorhersagen\n",
    "plt.plot(time_series, label='Zeitreihe')\n",
    "plt.xlabel('Zeitschritte')\n",
    "plt.ylabel('Wert')\n",
    "plt.title('Zeitreihe und Vorhersagen')\n",
    "plt.scatter(len(time_series) - 1, predicted_value, color='red', label='Vorhersage (Ende)')\n",
    "plt.scatter(0, time_series[0], color='green', label='Anfang')\n",
    "plt.legend()\n",
    "plt.show()\n"
   ]
  },
  {
   "cell_type": "code",
   "execution_count": null,
   "id": "81554339",
   "metadata": {},
   "outputs": [],
   "source": [
    "X"
   ]
  },
  {
   "cell_type": "code",
   "execution_count": null,
   "id": "db1cbca2",
   "metadata": {},
   "outputs": [],
   "source": [
    "y"
   ]
  },
  {
   "cell_type": "markdown",
   "id": "b0acc8a5",
   "metadata": {},
   "source": [
    "### Einfache Autoregression mit einem ARIMA-Modell (AutoRegressIve, Moving Average)"
   ]
  },
  {
   "cell_type": "code",
   "execution_count": null,
   "id": "74800288",
   "metadata": {},
   "outputs": [],
   "source": [
    "import numpy as np\n",
    "import matplotlib.pyplot as plt\n",
    "from statsmodels.tsa.arima.model import ARIMA\n",
    "\n",
    "# Erstellen einer Zeitreihe mit saisonalem Muster (z.B. jährlich)\n",
    "np.random.seed(0)\n",
    "n = 100\n",
    "t = np.arange(n)\n",
    "seasonal_pattern = 10 * np.sin(2 * np.pi * t / 12) + t/10  # Monatlich mit einer 12-monatigen Periode\n",
    "noise = np.random.normal(0, 1, n)\n",
    "time_series = seasonal_pattern + noise\n",
    "\n",
    "#time_series = np.ones(100) + 5\n",
    "\n",
    "# Visualisieren der Zeitreihe\n",
    "plt.plot(time_series)\n",
    "plt.xlabel('Zeitschritte')\n",
    "plt.ylabel('Wert')\n",
    "plt.title('Zeitreihe mit saisonalem Muster')\n",
    "plt.show()\n",
    "\n",
    "# Anpassen eines ARIMA-Modells (p=12, d=0, q=0)\n",
    "model = ARIMA(time_series, order=(16, 0, 0))\n",
    "model_fit = model.fit()\n",
    "\n",
    "# Vorhersagen für die nächsten k Schritte\n",
    "k = 100\n",
    "forecast = model_fit.forecast(steps=k)\n",
    "\n",
    "# Visualisieren der Vorhersagen\n",
    "next_steps = np.arange(n, n + k)\n",
    "plt.plot(time_series, label='Beobachtungen')\n",
    "plt.plot(next_steps, forecast, color='red', label='Vorhersagen')\n",
    "plt.xlabel('Zeitschritte')\n",
    "plt.ylabel('Wert')\n",
    "plt.title('ARIMA-Vorhersage mit saisonalem Muster')\n",
    "plt.legend()\n",
    "plt.show()\n"
   ]
  },
  {
   "cell_type": "markdown",
   "id": "5f239926",
   "metadata": {},
   "source": [
    "<b>Effekt:</b> Die Autoregression berücksichtigt näher zurückliegende Datenpunkte mit höherem Gewicht. Es stellt sich im weiteren zeitlichen Prognoseraum der Durchschnitt vorhergehender Datenpunkte ein. Zyklische Aspekte werden hierbei nicht berücksichtigt.\n",
    "\n",
    "### Vorhersagen aus Zeitriehen unter Berücksichtigung saisonaler Schankungen mit SARIMA-Modellen (Saisonal AutoRegressIve, Moving Average) "
   ]
  },
  {
   "cell_type": "code",
   "execution_count": null,
   "id": "57f3a6eb",
   "metadata": {},
   "outputs": [],
   "source": [
    "import numpy as np\n",
    "import matplotlib.pyplot as plt\n",
    "from statsmodels.tsa.statespace.sarimax import SARIMAX\n",
    "\n",
    "# Erstellen einer Zeitreihe mit saisonalem Muster (z.B. jährlich)\n",
    "np.random.seed(0)\n",
    "n = 100\n",
    "t = np.arange(n)\n",
    "seasonal_pattern = 10 * np.sin(2 * np.pi * t / 12)  # Monatlich mit einer 12-monatigen Periode\n",
    "noise = np.random.normal(0, 1, n)\n",
    "time_series = seasonal_pattern + noise\n",
    "\n",
    "# Visualisieren der Zeitreihe\n",
    "plt.plot(time_series)\n",
    "plt.xlabel('Zeitschritte')\n",
    "plt.ylabel('Wert')\n",
    "plt.title('Zeitreihe mit saisonalem Muster')\n",
    "plt.show()\n",
    "\n",
    "# Anpassen eines SARIMA-Modells mit saisonalen Parametern (p=1, d=0, q=0, P=1, D=1, Q=1, S=12)\n",
    "model = SARIMAX(time_series, order=(1, 0, 0), seasonal_order=(1, 1, 1, 12))\n",
    "model_fit = model.fit(disp=False)\n",
    "\n",
    "# Vorhersagen für die nächsten k Schritte\n",
    "k = 100\n",
    "forecast = model_fit.get_forecast(steps=k)\n",
    "\n",
    "# Visualisieren der Vorhersagen\n",
    "next_steps = np.arange(n, n + k)\n",
    "forecast_mean = forecast.predicted_mean\n",
    "forecast_ci = forecast.conf_int()\n",
    "\n",
    "plt.plot(time_series, label='Beobachtungen')\n",
    "plt.plot(next_steps, forecast_mean, color='red', label='Vorhersagen')\n",
    "#plt.fill_between(next_steps, forecast_ci.iloc[:, 0], forecast_ci.iloc[:, 1], color='pink', alpha=0.3, label='Konfidenzintervall')\n",
    "plt.fill_between(next_steps, forecast_ci[:, 0], forecast_ci[:, 1], color='pink', alpha=0.3, label='Konfidenzintervall')\n",
    "\n",
    "plt.xlabel('Zeitschritte')\n",
    "plt.ylabel('Wert')\n",
    "plt.title('SARIMA-Vorhersage mit saisonalem Muster')\n",
    "plt.legend()\n",
    "plt.show()\n",
    "\n"
   ]
  },
  {
   "cell_type": "markdown",
   "id": "e22f2d82",
   "metadata": {},
   "source": [
    "### SARIMA-Modelle funktionieren auch mit komplizierteren saisonalen Mustern... "
   ]
  },
  {
   "cell_type": "code",
   "execution_count": null,
   "id": "69c509ee",
   "metadata": {},
   "outputs": [],
   "source": [
    "import numpy as np\n",
    "import matplotlib.pyplot as plt\n",
    "from statsmodels.tsa.statespace.sarimax import SARIMAX\n",
    "\n",
    "# Erstellen einer Zeitreihe mit einem komplizierten saisonalen Muster\n",
    "np.random.seed(0)\n",
    "n = 300\n",
    "t = np.arange(n)\n",
    "seasonal_pattern = 20 * np.sin(2 * np.pi * t / 12) + (1*t/10) * np.cos(4 * np.pi * t / 12) + t/10 # Kombination aus Sinus- und Cosinus-Funktionen\n",
    "\n",
    "#noise=0\n",
    "noise = np.random.normal(0, 3, n)\n",
    "time_series = seasonal_pattern + noise\n",
    "\n",
    "# Visualisieren der Zeitreihe\n",
    "plt.plot(time_series)\n",
    "plt.xlabel('Zeitschritte')\n",
    "plt.ylabel('Wert')\n",
    "plt.title('Zeitreihe mit kompliziertem saisonalem Muster')\n",
    "plt.show()\n",
    "\n",
    "# Anpassen eines SARIMA-Modells mit saisonalen Parametern (p=2, d=0, q=2, P=1, D=1, Q=1, S=12)\n",
    "#model = SARIMAX(time_series, order=(2, 0, 2), seasonal_order=(1, 1, 1, 12))\n",
    "\n",
    "model = SARIMAX(time_series, order=(2, 0, 2), seasonal_order=(1, 1, 1, 12))\n",
    "\n",
    "model_fit = model.fit(disp=False)\n",
    "\n",
    "# Vorhersagen für die nächsten k Schritte\n",
    "k = 100\n",
    "forecast = model_fit.get_forecast(steps=k)\n",
    "\n",
    "# Visualisieren der Vorhersagen\n",
    "next_steps = np.arange(n, n + k)\n",
    "forecast_mean = forecast.predicted_mean\n",
    "forecast_ci = forecast.conf_int()\n",
    "\n",
    "plt.plot(time_series, label='Beobachtungen')\n",
    "plt.plot(next_steps, forecast_mean, color='red', label='Vorhersagen')\n",
    "plt.fill_between(next_steps, forecast_ci[:, 0], forecast_ci[:, 1], color='pink', alpha=0.3, label='Konfidenzintervall')\n",
    "plt.xlabel('Zeitschritte')\n",
    "plt.ylabel('Wert')\n",
    "plt.title('SARIMA-Vorhersage mit kompliziertem saisonalem Muster')\n",
    "plt.legend()\n",
    "plt.show()"
   ]
  },
  {
   "cell_type": "code",
   "execution_count": null,
   "id": "cd59a1b8",
   "metadata": {},
   "outputs": [],
   "source": []
  }
 ],
 "metadata": {
  "kernelspec": {
   "display_name": "Python 3 (ipykernel)",
   "language": "python",
   "name": "python3"
  },
  "language_info": {
   "codemirror_mode": {
    "name": "ipython",
    "version": 3
   },
   "file_extension": ".py",
   "mimetype": "text/x-python",
   "name": "python",
   "nbconvert_exporter": "python",
   "pygments_lexer": "ipython3",
   "version": "3.9.13"
  }
 },
 "nbformat": 4,
 "nbformat_minor": 5
}

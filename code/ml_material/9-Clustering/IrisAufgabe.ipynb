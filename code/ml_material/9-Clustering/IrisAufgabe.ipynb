{
 "cells": [
  {
   "cell_type": "markdown",
   "metadata": {},
   "source": [
    "## Aufgabe: Um was für eine Pflanzenart handelt es sich?\n",
    "\n",
    "Sage dazu die Spalte `Species` vorher.\n",
    "\n",
    "Teile die Daten dazu zuerst in Trainings- und Testdaten auf. Skaliere anschließend die Daten auf ein einheitliches Maß, und vergleiche folgende Modelle:\n",
    "\n",
    "- Logistische Regression\n",
    "- KNN (probiere hier verschiedene Werte für `k` aus, z.B. k = 1, k = 3, k = 5). Bitte beachte: Dieser Parameter heißt in sklearn `n_neighbors`!\n",
    "\n",
    "#### Hinweise: \n",
    "  - Die Spalte `Id` wird für das Modell nicht benötigt, diese Spalte\n",
    "    sollte also auf keinen Fall in die Berechnung vom Modell mit\n",
    "    einfließen.\n",
    "  - Du möchtest hier die Spalte `Species` vorhersagen. Diese enthält\n",
    "    drei verschiedene Werte - Sklearn kommt damit automatisch klar! :)"
   ]
  },
  {
   "cell_type": "code",
   "execution_count": null,
   "metadata": {},
   "outputs": [],
   "source": [
    "import pandas as pd\n",
    "\n",
    "df = pd.read_csv(\"../iris.csv\")\n",
    "\n",
    "df.head()"
   ]
  },
  {
   "cell_type": "code",
   "execution_count": null,
   "metadata": {},
   "outputs": [],
   "source": []
  },
  {
   "cell_type": "code",
   "execution_count": null,
   "metadata": {},
   "outputs": [],
   "source": []
  }
 ],
 "metadata": {
  "kernelspec": {
   "display_name": "Python 3 (ipykernel)",
   "language": "python",
   "name": "python3"
  },
  "language_info": {
   "codemirror_mode": {
    "name": "ipython",
    "version": 3
   },
   "file_extension": ".py",
   "mimetype": "text/x-python",
   "name": "python",
   "nbconvert_exporter": "python",
   "pygments_lexer": "ipython3",
   "version": "3.9.13"
  }
 },
 "nbformat": 4,
 "nbformat_minor": 2
}

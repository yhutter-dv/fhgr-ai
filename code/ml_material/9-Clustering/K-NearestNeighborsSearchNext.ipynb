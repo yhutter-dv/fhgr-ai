{
 "cells": [
  {
   "cell_type": "markdown",
   "metadata": {},
   "source": [
    "# k-Nearest Neighbour - Anwendung zum Suchen des nächstgelegenen Knotens"
   ]
  },
  {
   "cell_type": "code",
   "execution_count": null,
   "metadata": {},
   "outputs": [],
   "source": [
    "from sklearn.model_selection import train_test_split\n",
    "\n",
    "# Gegeben seien Punkte in einem 2-d Array (Das könnten z.B. Geokoordinaten sein)\n",
    "X = [[1,1], [1,2], [3,3], [4,1], [3,2], [5,6], [3,1], [6,5], [5,6], [6,6] ]\n",
    "\n",
    "# Jeder der obigen Punkte in X soll sein eigener Cluster sein. Dann ist y die Index-Nummer des jew. Punktes\n",
    "y = [ 1, 2, 3, 4, 5, 6, 7, 8, 9, 10 ]\n"
   ]
  },
  {
   "cell_type": "code",
   "execution_count": null,
   "metadata": {},
   "outputs": [],
   "source": [
    "from sklearn.neighbors import KNeighborsClassifier\n",
    "# n_neighbors muss hier = 1 sein, denn wie suchen \"den einen\" nächsten Nachbarn.\n",
    "model = KNeighborsClassifier(n_neighbors=1)\n",
    "model.fit(X, y)\n"
   ]
  },
  {
   "cell_type": "code",
   "execution_count": null,
   "metadata": {
    "scrolled": true
   },
   "outputs": [],
   "source": [
    "# Suche den Index des Punktes, der einem neuen Punkt am nächsten ist.\n",
    "proba = [[3.2,3.2]]\n",
    "model.predict(proba)"
   ]
  },
  {
   "cell_type": "code",
   "execution_count": null,
   "metadata": {},
   "outputs": [],
   "source": [
    "import matplotlib.pyplot as plt\n",
    "fig, ax = plt.subplots()\n",
    "# Blau: Alle Punkte von X\n",
    "plt.scatter( [i[0] for i in X], [i[1] for i in X] )\n",
    "for i in y:\n",
    "    ax.annotate(i, (X[i-1][0]+.1, X[i-1][1]))\n",
    "plt.scatter( proba[0][0], proba[0][1] )"
   ]
  },
  {
   "cell_type": "code",
   "execution_count": null,
   "metadata": {},
   "outputs": [],
   "source": []
  }
 ],
 "metadata": {
  "kernelspec": {
   "display_name": "Python 3 (ipykernel)",
   "language": "python",
   "name": "python3"
  },
  "language_info": {
   "codemirror_mode": {
    "name": "ipython",
    "version": 3
   },
   "file_extension": ".py",
   "mimetype": "text/x-python",
   "name": "python",
   "nbconvert_exporter": "python",
   "pygments_lexer": "ipython3",
   "version": "3.9.13"
  }
 },
 "nbformat": 4,
 "nbformat_minor": 2
}

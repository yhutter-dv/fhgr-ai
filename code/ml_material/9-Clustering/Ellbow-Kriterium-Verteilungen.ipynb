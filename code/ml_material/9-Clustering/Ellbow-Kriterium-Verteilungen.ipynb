{
 "cells": [
  {
   "cell_type": "markdown",
   "metadata": {},
   "source": [
    "# Ellbow-Kriterium bei unterschiedlichen Verteilungen"
   ]
  },
  {
   "cell_type": "code",
   "execution_count": null,
   "metadata": {},
   "outputs": [],
   "source": [
    "import numpy as np\n",
    "\n",
    "sigmafaktor = 1.0\n",
    "x = np.random.normal(15, 1*sigmafaktor, 1000)\n",
    "y = np.random.normal(15, 1.5*sigmafaktor, 1000)\n",
    "\n",
    "x = np.append(x, np.random.normal(10, 1*sigmafaktor, 1000))\n",
    "y = np.append(y, np.random.normal(10, 1*sigmafaktor, 1000))\n",
    "\n",
    "x = np.append(x, np.random.normal(15, 0.5*sigmafaktor, 1000))\n",
    "y = np.append(y, np.random.normal(8, 1*sigmafaktor, 1000))\n",
    "\n",
    "x = np.append(x, np.random.normal(13, 0.4*sigmafaktor, 1000))\n",
    "y = np.append(y, np.random.normal(10, 0.4*sigmafaktor, 1000))\n",
    "\n",
    "x = np.append(x, np.random.normal(5, 0.5*sigmafaktor, 1000))\n",
    "y = np.append(y, np.random.normal(5, 0.5*sigmafaktor, 1000))\n",
    "\n"
   ]
  },
  {
   "cell_type": "code",
   "execution_count": null,
   "metadata": {},
   "outputs": [],
   "source": [
    "import matplotlib.pyplot as plt\n",
    "%matplotlib inline\n",
    "%config InlineBackend.figure_formats = set([\"retina\"])\n",
    "plt.scatter(x, y, s=0.2)\n",
    "plt.xlim(0, 25)\n",
    "plt.ylim(0, 25)\n",
    "plt.xlabel(\"X\")\n",
    "plt.ylabel(\"Y\")\n",
    "plt.show()"
   ]
  },
  {
   "cell_type": "code",
   "execution_count": null,
   "metadata": {},
   "outputs": [],
   "source": [
    "import pandas as pd\n",
    "d = {'x': x, 'y': y}\n",
    "data = pd.DataFrame(data=d)"
   ]
  },
  {
   "cell_type": "code",
   "execution_count": null,
   "metadata": {},
   "outputs": [],
   "source": [
    "from sklearn.cluster import KMeans\n",
    "import matplotlib.pyplot as plt\n",
    "\n",
    "sse = {}\n",
    "sil_coeff = {}\n",
    "verbesserung = []\n",
    "verbesserung.append(1)\n",
    "for k in range(2, 10):  # Wir probieren alle Clustergrößen von 1 bis 10 aus....\n",
    "    kmeans = KMeans(n_clusters=k, max_iter=1000).fit(data)\n",
    "    sse[k] = kmeans.inertia_ / 250 # Inertia: Sum of distances of samples to their closest cluster center\n",
    "   \n",
    "plt.figure()\n",
    "plt.plot(list(sse.keys()), list(sse.values()))\n",
    "plt.xlabel(\"Number of cluster\")\n",
    "plt.ylabel(\"Sum of Distances of Samples (SSE)\")\n",
    "\n",
    "# Wo ist der Ellenbogen? - Dort wo die Änderung am dichtesten bei 50% Änderung ist\n",
    "plt.scatter(5, sse[5], color='red')\n",
    "\n",
    "plt.show()"
   ]
  },
  {
   "cell_type": "code",
   "execution_count": null,
   "metadata": {},
   "outputs": [],
   "source": [
    "sse"
   ]
  },
  {
   "cell_type": "code",
   "execution_count": null,
   "metadata": {},
   "outputs": [],
   "source": [
    "for s in sse.values():\n",
    "    print(s / sse[2])"
   ]
  },
  {
   "cell_type": "code",
   "execution_count": null,
   "metadata": {},
   "outputs": [],
   "source": []
  }
 ],
 "metadata": {
  "kernelspec": {
   "display_name": "Python 3 (ipykernel)",
   "language": "python",
   "name": "python3"
  },
  "language_info": {
   "codemirror_mode": {
    "name": "ipython",
    "version": 3
   },
   "file_extension": ".py",
   "mimetype": "text/x-python",
   "name": "python",
   "nbconvert_exporter": "python",
   "pygments_lexer": "ipython3",
   "version": "3.9.13"
  }
 },
 "nbformat": 4,
 "nbformat_minor": 4
}

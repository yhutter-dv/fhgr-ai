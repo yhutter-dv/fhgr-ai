{
 "cells": [
  {
   "cell_type": "markdown",
   "metadata": {},
   "source": [
    "# 1. Extract"
   ]
  },
  {
   "cell_type": "code",
   "execution_count": 1,
   "metadata": {},
   "outputs": [],
   "source": [
    "import pandas as pd\n",
    "person = pd.read_csv(\"Persons.csv\")"
   ]
  },
  {
   "cell_type": "code",
   "execution_count": 2,
   "metadata": {},
   "outputs": [
    {
     "data": {
      "text/html": [
       "<div>\n",
       "<style scoped>\n",
       "    .dataframe tbody tr th:only-of-type {\n",
       "        vertical-align: middle;\n",
       "    }\n",
       "\n",
       "    .dataframe tbody tr th {\n",
       "        vertical-align: top;\n",
       "    }\n",
       "\n",
       "    .dataframe thead th {\n",
       "        text-align: right;\n",
       "    }\n",
       "</style>\n",
       "<table border=\"1\" class=\"dataframe\">\n",
       "  <thead>\n",
       "    <tr style=\"text-align: right;\">\n",
       "      <th></th>\n",
       "      <th>Name</th>\n",
       "      <th>Geschlecht</th>\n",
       "      <th>Alter</th>\n",
       "      <th>Nationalität</th>\n",
       "      <th>Gehalt</th>\n",
       "      <th>City-ID</th>\n",
       "    </tr>\n",
       "  </thead>\n",
       "  <tbody>\n",
       "    <tr>\n",
       "      <th>0</th>\n",
       "      <td>Peter</td>\n",
       "      <td>M</td>\n",
       "      <td>34</td>\n",
       "      <td>deutsch</td>\n",
       "      <td>3400</td>\n",
       "      <td>B</td>\n",
       "    </tr>\n",
       "    <tr>\n",
       "      <th>1</th>\n",
       "      <td>Karla</td>\n",
       "      <td>W</td>\n",
       "      <td>43</td>\n",
       "      <td>schweizerisch</td>\n",
       "      <td>4000</td>\n",
       "      <td>AC</td>\n",
       "    </tr>\n",
       "    <tr>\n",
       "      <th>2</th>\n",
       "      <td>Anne</td>\n",
       "      <td>W</td>\n",
       "      <td>16</td>\n",
       "      <td>deutsch</td>\n",
       "      <td>0</td>\n",
       "      <td>B</td>\n",
       "    </tr>\n",
       "    <tr>\n",
       "      <th>3</th>\n",
       "      <td>Nino</td>\n",
       "      <td>M</td>\n",
       "      <td>22</td>\n",
       "      <td>italienisch</td>\n",
       "      <td>3000</td>\n",
       "      <td>HB</td>\n",
       "    </tr>\n",
       "    <tr>\n",
       "      <th>4</th>\n",
       "      <td>Andrzej</td>\n",
       "      <td>M</td>\n",
       "      <td>61</td>\n",
       "      <td>polnisch</td>\n",
       "      <td>2300</td>\n",
       "      <td>KS</td>\n",
       "    </tr>\n",
       "    <tr>\n",
       "      <th>5</th>\n",
       "      <td>Flurina</td>\n",
       "      <td>W</td>\n",
       "      <td>65</td>\n",
       "      <td>schweizerisch</td>\n",
       "      <td>6000</td>\n",
       "      <td>HB</td>\n",
       "    </tr>\n",
       "  </tbody>\n",
       "</table>\n",
       "</div>"
      ],
      "text/plain": [
       "      Name Geschlecht  Alter   Nationalität  Gehalt City-ID\n",
       "0    Peter          M     34        deutsch    3400       B\n",
       "1    Karla          W     43  schweizerisch    4000      AC\n",
       "2     Anne          W     16        deutsch       0       B\n",
       "3     Nino          M     22    italienisch    3000      HB\n",
       "4  Andrzej          M     61       polnisch    2300      KS\n",
       "5  Flurina          W     65  schweizerisch    6000      HB"
      ]
     },
     "execution_count": 2,
     "metadata": {},
     "output_type": "execute_result"
    }
   ],
   "source": [
    "#anschauen....\n",
    "person"
   ]
  },
  {
   "cell_type": "code",
   "execution_count": 3,
   "metadata": {},
   "outputs": [],
   "source": [
    "wohnort = pd.read_csv(\"Cities.csv\")\n"
   ]
  },
  {
   "cell_type": "code",
   "execution_count": 4,
   "metadata": {},
   "outputs": [
    {
     "data": {
      "text/html": [
       "<div>\n",
       "<style scoped>\n",
       "    .dataframe tbody tr th:only-of-type {\n",
       "        vertical-align: middle;\n",
       "    }\n",
       "\n",
       "    .dataframe tbody tr th {\n",
       "        vertical-align: top;\n",
       "    }\n",
       "\n",
       "    .dataframe thead th {\n",
       "        text-align: right;\n",
       "    }\n",
       "</style>\n",
       "<table border=\"1\" class=\"dataframe\">\n",
       "  <thead>\n",
       "    <tr style=\"text-align: right;\">\n",
       "      <th></th>\n",
       "      <th>Wohnort</th>\n",
       "      <th>Stadt-ID</th>\n",
       "    </tr>\n",
       "  </thead>\n",
       "  <tbody>\n",
       "    <tr>\n",
       "      <th>0</th>\n",
       "      <td>Kassel</td>\n",
       "      <td>KS</td>\n",
       "    </tr>\n",
       "    <tr>\n",
       "      <th>1</th>\n",
       "      <td>Berlin</td>\n",
       "      <td>B</td>\n",
       "    </tr>\n",
       "    <tr>\n",
       "      <th>2</th>\n",
       "      <td>Aachen</td>\n",
       "      <td>AC</td>\n",
       "    </tr>\n",
       "    <tr>\n",
       "      <th>3</th>\n",
       "      <td>Bremen</td>\n",
       "      <td>HB</td>\n",
       "    </tr>\n",
       "  </tbody>\n",
       "</table>\n",
       "</div>"
      ],
      "text/plain": [
       "  Wohnort Stadt-ID\n",
       "0  Kassel       KS\n",
       "1  Berlin        B\n",
       "2  Aachen       AC\n",
       "3  Bremen       HB"
      ]
     },
     "execution_count": 4,
     "metadata": {},
     "output_type": "execute_result"
    }
   ],
   "source": [
    "#anschauen...\n",
    "wohnort"
   ]
  },
  {
   "cell_type": "markdown",
   "metadata": {},
   "source": [
    "# 2. Transform\n",
    "## 2.1 Zusammenführen zweier Tabellen"
   ]
  },
  {
   "cell_type": "code",
   "execution_count": 5,
   "metadata": {},
   "outputs": [],
   "source": [
    "dataframe = person.merge(right=wohnort, how='left', left_on='City-ID', right_on='Stadt-ID')"
   ]
  },
  {
   "cell_type": "code",
   "execution_count": 6,
   "metadata": {},
   "outputs": [
    {
     "data": {
      "text/html": [
       "<div>\n",
       "<style scoped>\n",
       "    .dataframe tbody tr th:only-of-type {\n",
       "        vertical-align: middle;\n",
       "    }\n",
       "\n",
       "    .dataframe tbody tr th {\n",
       "        vertical-align: top;\n",
       "    }\n",
       "\n",
       "    .dataframe thead th {\n",
       "        text-align: right;\n",
       "    }\n",
       "</style>\n",
       "<table border=\"1\" class=\"dataframe\">\n",
       "  <thead>\n",
       "    <tr style=\"text-align: right;\">\n",
       "      <th></th>\n",
       "      <th>Name</th>\n",
       "      <th>Geschlecht</th>\n",
       "      <th>Alter</th>\n",
       "      <th>Nationalität</th>\n",
       "      <th>Gehalt</th>\n",
       "      <th>City-ID</th>\n",
       "      <th>Wohnort</th>\n",
       "      <th>Stadt-ID</th>\n",
       "    </tr>\n",
       "  </thead>\n",
       "  <tbody>\n",
       "    <tr>\n",
       "      <th>0</th>\n",
       "      <td>Peter</td>\n",
       "      <td>M</td>\n",
       "      <td>34</td>\n",
       "      <td>deutsch</td>\n",
       "      <td>3400</td>\n",
       "      <td>B</td>\n",
       "      <td>Berlin</td>\n",
       "      <td>B</td>\n",
       "    </tr>\n",
       "    <tr>\n",
       "      <th>1</th>\n",
       "      <td>Karla</td>\n",
       "      <td>W</td>\n",
       "      <td>43</td>\n",
       "      <td>schweizerisch</td>\n",
       "      <td>4000</td>\n",
       "      <td>AC</td>\n",
       "      <td>Aachen</td>\n",
       "      <td>AC</td>\n",
       "    </tr>\n",
       "    <tr>\n",
       "      <th>2</th>\n",
       "      <td>Anne</td>\n",
       "      <td>W</td>\n",
       "      <td>16</td>\n",
       "      <td>deutsch</td>\n",
       "      <td>0</td>\n",
       "      <td>B</td>\n",
       "      <td>Berlin</td>\n",
       "      <td>B</td>\n",
       "    </tr>\n",
       "    <tr>\n",
       "      <th>3</th>\n",
       "      <td>Nino</td>\n",
       "      <td>M</td>\n",
       "      <td>22</td>\n",
       "      <td>italienisch</td>\n",
       "      <td>3000</td>\n",
       "      <td>HB</td>\n",
       "      <td>Bremen</td>\n",
       "      <td>HB</td>\n",
       "    </tr>\n",
       "    <tr>\n",
       "      <th>4</th>\n",
       "      <td>Andrzej</td>\n",
       "      <td>M</td>\n",
       "      <td>61</td>\n",
       "      <td>polnisch</td>\n",
       "      <td>2300</td>\n",
       "      <td>KS</td>\n",
       "      <td>Kassel</td>\n",
       "      <td>KS</td>\n",
       "    </tr>\n",
       "    <tr>\n",
       "      <th>5</th>\n",
       "      <td>Flurina</td>\n",
       "      <td>W</td>\n",
       "      <td>65</td>\n",
       "      <td>schweizerisch</td>\n",
       "      <td>6000</td>\n",
       "      <td>HB</td>\n",
       "      <td>Bremen</td>\n",
       "      <td>HB</td>\n",
       "    </tr>\n",
       "  </tbody>\n",
       "</table>\n",
       "</div>"
      ],
      "text/plain": [
       "      Name Geschlecht  Alter   Nationalität  Gehalt City-ID Wohnort Stadt-ID\n",
       "0    Peter          M     34        deutsch    3400       B  Berlin        B\n",
       "1    Karla          W     43  schweizerisch    4000      AC  Aachen       AC\n",
       "2     Anne          W     16        deutsch       0       B  Berlin        B\n",
       "3     Nino          M     22    italienisch    3000      HB  Bremen       HB\n",
       "4  Andrzej          M     61       polnisch    2300      KS  Kassel       KS\n",
       "5  Flurina          W     65  schweizerisch    6000      HB  Bremen       HB"
      ]
     },
     "execution_count": 6,
     "metadata": {},
     "output_type": "execute_result"
    }
   ],
   "source": [
    "dataframe\n"
   ]
  },
  {
   "cell_type": "code",
   "execution_count": null,
   "metadata": {},
   "outputs": [],
   "source": [
    "#Iteration\n",
    "for index, row in dataframe.iterrows():\n",
    "    print(str(index)+' : '+row['Name']+'/'+str(row['Alter']))\n"
   ]
  },
  {
   "cell_type": "markdown",
   "metadata": {},
   "source": [
    "## 2.2 Änderungen an Daten (z.B. für Korrekturen)"
   ]
  },
  {
   "cell_type": "code",
   "execution_count": null,
   "metadata": {},
   "outputs": [],
   "source": [
    "#Manipulation eines df mit \"at[Zeile, Spalte]\" funktioniert\n",
    "dataframe.at[0, 'Name'] = \"Rolf\"\n",
    "#Aus Peter wird Rolf"
   ]
  },
  {
   "cell_type": "code",
   "execution_count": null,
   "metadata": {},
   "outputs": [],
   "source": [
    "dataframe"
   ]
  },
  {
   "cell_type": "markdown",
   "metadata": {},
   "source": [
    "## 2.3 Verändern der Daten (...ab 50 ist man \"alt\")"
   ]
  },
  {
   "cell_type": "code",
   "execution_count": null,
   "metadata": {},
   "outputs": [],
   "source": [
    "for index, row in dataframe.iterrows():\n",
    "    if (int(row[\"Alter\"]) > 50):\n",
    "        dataframe.at[index, \"Altersklasse\"] = \"alt\"\n",
    "    else:\n",
    "        dataframe.at[index, \"Altersklasse\"] = \"jung\"\n",
    "dataframe"
   ]
  },
  {
   "cell_type": "markdown",
   "metadata": {},
   "source": [
    "## 2.4 Nur bestimmte Spalten ausgeben (Projektion)"
   ]
  },
  {
   "cell_type": "code",
   "execution_count": null,
   "metadata": {},
   "outputs": [],
   "source": [
    "# schöne Ausgabe:\n",
    "ausgabe = dataframe[['Name', 'Geschlecht', 'Alter', 'Altersklasse', 'Nationalität', 'Gehalt', 'Wohnort']]\n",
    "ausgabe"
   ]
  },
  {
   "cell_type": "markdown",
   "metadata": {},
   "source": [
    "## 2.5 Nur bestimmte Zeilen ausgeben \n",
    "### (Selektion mit logischen Operatoren wie '=', '&', '<', usw.)"
   ]
  },
  {
   "cell_type": "code",
   "execution_count": null,
   "metadata": {},
   "outputs": [],
   "source": [
    "#Abfrage / Selektion: \"Gib alle alten aus\":\n",
    "alte = ausgabe[ausgabe['Altersklasse']=='alt']\n",
    "alte"
   ]
  },
  {
   "cell_type": "code",
   "execution_count": null,
   "metadata": {},
   "outputs": [],
   "source": [
    "#Abfrage / Selektion: \"Gib alle Schweizer aus\":\n",
    "schweizer = ausgabe[(ausgabe['Nationalität']=='schweizerisch')]\n",
    "schweizer"
   ]
  },
  {
   "cell_type": "code",
   "execution_count": null,
   "metadata": {},
   "outputs": [],
   "source": [
    "#Abfrage / Selektion: \"Gib alle alten Schweizer aus\":\n",
    "alteschweizer = ausgabe[(ausgabe['Altersklasse']=='alt') & (ausgabe['Nationalität']=='schweizerisch')]\n",
    "alteschweizer"
   ]
  },
  {
   "cell_type": "code",
   "execution_count": null,
   "metadata": {},
   "outputs": [],
   "source": [
    "# .... wobei das alte ∩ schweizer auch einfacher geht: \n",
    "alte.merge(schweizer)"
   ]
  }
 ],
 "metadata": {
  "kernelspec": {
   "display_name": "venv",
   "language": "python",
   "name": "venv"
  },
  "language_info": {
   "codemirror_mode": {
    "name": "ipython",
    "version": 3
   },
   "file_extension": ".py",
   "mimetype": "text/x-python",
   "name": "python",
   "nbconvert_exporter": "python",
   "pygments_lexer": "ipython3",
   "version": "3.11.7"
  }
 },
 "nbformat": 4,
 "nbformat_minor": 4
}

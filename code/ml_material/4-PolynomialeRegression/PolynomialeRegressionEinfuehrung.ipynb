{
 "cells": [
  {
   "cell_type": "markdown",
   "metadata": {},
   "source": [
    "# Einführung in die Polynomiale Regression\n",
    "### Es geht um landwirtschftliche Flurstücke und deren Verkauspreise: Kann man den Verkaufspreis vorhersagen, wenn man Länge und Breite der Grundstücke kennt?"
   ]
  },
  {
   "cell_type": "code",
   "execution_count": null,
   "metadata": {},
   "outputs": [],
   "source": [
    "import pandas as pd\n",
    "\n",
    "df = pd.read_csv(\"../fields.csv\")"
   ]
  },
  {
   "cell_type": "code",
   "execution_count": null,
   "metadata": {},
   "outputs": [],
   "source": [
    "df.head(30)"
   ]
  },
  {
   "cell_type": "code",
   "execution_count": null,
   "metadata": {},
   "outputs": [],
   "source": [
    "# Beispiel: Normale, lineare Regression\n",
    "\n",
    "X = df[[\"width\", \"length\"]].values\n",
    "Y = df[[\"profit\"]].values\n",
    "\n",
    "from sklearn.model_selection import train_test_split\n",
    "X_train, X_test, y_train, y_test = train_test_split(X, Y, random_state = 42, test_size = 0.25)\n",
    "\n",
    "from sklearn.linear_model import LinearRegression\n",
    "\n",
    "model = LinearRegression()\n",
    "model.fit(X_train, y_train)\n",
    "\n",
    "print(model.score(X_test, y_test))"
   ]
  },
  {
   "cell_type": "code",
   "execution_count": null,
   "metadata": {},
   "outputs": [],
   "source": [
    "from sklearn.preprocessing import PolynomialFeatures\n",
    "\n",
    "PolynomialFeatures?\n"
   ]
  },
  {
   "cell_type": "code",
   "execution_count": null,
   "metadata": {},
   "outputs": [],
   "source": [
    "pf = PolynomialFeatures(degree = 2, include_bias = False)\n",
    "#include_bias = False  - Wenn das auf True ist, dann gibt es eine zusätzliche Spalte mit einer 1, um den Intercept zu trainieren, falls diser nicht vorhanden wäre.\n",
    "\n",
    "pf.fit(X_train) #wäre hier strenggenommen nicht nötig, aber andere Prozesse verlangen das später\n"
   ]
  },
  {
   "cell_type": "code",
   "execution_count": null,
   "metadata": {},
   "outputs": [],
   "source": [
    "X_train\n",
    "#Ein Arry aus Paaren \"length\" und \"width\" bzw. wir sagen x1 und x2"
   ]
  },
  {
   "cell_type": "code",
   "execution_count": null,
   "metadata": {},
   "outputs": [],
   "source": [
    "pf.transform(X_train)\n",
    "#erzeugt  jetzt 5 Zahlen pro Example und zwar: x1, x2, x1*x1, X1*x2,  x2*x2   "
   ]
  },
  {
   "cell_type": "code",
   "execution_count": null,
   "metadata": {},
   "outputs": [],
   "source": [
    "#der Bauplan hierfür ist mit\n",
    "pf.powers_\n",
    "#abrufbar. Dort sind die Potenzen der 5 Spalten sichtbar. \n",
    "# width ^ 1 * length ^ 0\n",
    "# width ^ 2 * length ^ 0"
   ]
  },
  {
   "cell_type": "code",
   "execution_count": null,
   "metadata": {},
   "outputs": [],
   "source": [
    "#pf.transform(X_train)[:, [0, 2]]\n",
    "# schneidet z.B. X1, X1*X1 heraus... (nur Beispiel, das zeigen soll, wie man Spalten herausschneidet)"
   ]
  },
  {
   "cell_type": "code",
   "execution_count": null,
   "metadata": {},
   "outputs": [],
   "source": [
    "# Durch manuelles trial-and-error (Herumprobieren), kann man herausfinden, was hier wirklich\n",
    "# ausschlaggebend ist, um auf R2 = 0,988 zu kommen:\n",
    "\n",
    "#X_train_transformed = pf.transform(X_train) # Alles ohne Filter - liefert 0,988 - Bravo!\n",
    "#X_test_transformed = pf.transform(X_test) # Alles ohne Filter - liefert 0,988 - Bravo!\n",
    "#X_train_transformed = pf.transform(X_train)[:, [0, 1, 2, 3, 4]] # Komplett alles nehmen\n",
    "#X_test_transformed = pf.transform(X_test)[:, [0, 1, 2, 3, 4]] # ...ist hier nicht falsch.\n",
    "#X_train_transformed = pf.transform(X_train)[:, [0, 2]] # liefert auch 0,988\n",
    "#X_test_transformed = pf.transform(X_test)[:, [0, 2]]   # und das entspricht der Transformation: Länge, Länge * Länge\n",
    "#X_train_transformed = pf.transform(X_train)[:, [3]] # entspricht der Transformation: Länge * Breite, was den Preis gut repräsentieren sollte,\n",
    "#X_test_transformed = pf.transform(X_test)[:, [3]]   # aber das bingt nur 0,53 und ist eigentlich gegen die Intuition.\n",
    "#X_train_transformed = pf.transform(X_train)[:, [0, 3]] # Das entspricht Länge, Länge * Breite,\n",
    "#X_test_transformed = pf.transform(X_test)[:, [0, 3]]  # aber das bingt gegen die Intuition komischerweise nicht die besten Ergebnisse\n",
    "\n",
    "X_train_transformed = pf.transform(X_train)[:, [1,2]]  # Breite und Länge^2 ...funktionieren gut!\n",
    "X_test_transformed = pf.transform(X_test)[:, [1,2]]"
   ]
  },
  {
   "cell_type": "code",
   "execution_count": null,
   "metadata": {},
   "outputs": [],
   "source": [
    "from sklearn.linear_model import LinearRegression\n",
    "\n",
    "model = LinearRegression()\n",
    "model.fit(X_train_transformed, y_train)\n",
    "\n",
    "print(model.score(X_test_transformed, y_test))"
   ]
  },
  {
   "cell_type": "code",
   "execution_count": null,
   "metadata": {},
   "outputs": [],
   "source": [
    "model.coef_"
   ]
  },
  {
   "cell_type": "code",
   "execution_count": null,
   "metadata": {},
   "outputs": [],
   "source": [
    "model.intercept_"
   ]
  },
  {
   "cell_type": "code",
   "execution_count": null,
   "metadata": {},
   "outputs": [],
   "source": [
    "#Was passiert eigentlich bei pf.transform genau\n",
    "from sklearn.preprocessing import PolynomialFeatures\n",
    "pf = PolynomialFeatures(degree = 4, include_bias = False)\n",
    "a = [[1,2,3,4],\n",
    " [2,10,3,4],\n",
    " [2,11,3,4],\n",
    " [2,12,3,4]]\n",
    "pf.fit(a)\n",
    "pf.transform(a)"
   ]
  },
  {
   "cell_type": "code",
   "execution_count": null,
   "metadata": {},
   "outputs": [],
   "source": [
    "pf.powers_"
   ]
  },
  {
   "cell_type": "code",
   "execution_count": null,
   "metadata": {},
   "outputs": [],
   "source": [
    "# 1. Zeile - gegeben: 1 2 3 4 \n",
    "# 1 2 3 4\n",
    "# 1*1  1*2 1*3 1*4\n",
    "# 2*2  2*3  2*4\n",
    "# 3*3 3*4\n",
    "# 4*4\n",
    "\n",
    "# 2. Zeile - gegeben: 2 10 3 4\n",
    "# 2 10 3 4\n",
    "# 2*2 2*10 2*3 2*4\n",
    "# 10*10 10*30 10*4\n",
    "# 3*3 3*4\n",
    "# 4*4\n",
    "\n",
    "# usw. usw."
   ]
  },
  {
   "cell_type": "code",
   "execution_count": null,
   "metadata": {},
   "outputs": [],
   "source": [
    "pf.transform(a)[:, [0, 5]]"
   ]
  },
  {
   "cell_type": "code",
   "execution_count": null,
   "metadata": {},
   "outputs": [],
   "source": []
  }
 ],
 "metadata": {
  "kernelspec": {
   "display_name": "Python 3 (ipykernel)",
   "language": "python",
   "name": "python3"
  },
  "language_info": {
   "codemirror_mode": {
    "name": "ipython",
    "version": 3
   },
   "file_extension": ".py",
   "mimetype": "text/x-python",
   "name": "python",
   "nbconvert_exporter": "python",
   "pygments_lexer": "ipython3",
   "version": "3.9.13"
  }
 },
 "nbformat": 4,
 "nbformat_minor": 2
}

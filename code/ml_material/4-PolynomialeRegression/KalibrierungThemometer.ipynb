{
 "cells": [
  {
   "cell_type": "markdown",
   "metadata": {},
   "source": [
    "# Kalibrierung eines Thermometers\n",
    "### Eine Beispielanwendung von Regressionsverfahren"
   ]
  },
  {
   "cell_type": "code",
   "execution_count": null,
   "metadata": {},
   "outputs": [],
   "source": [
    "import pandas as pd\n",
    "\n",
    "df = pd.read_csv(\"./temp.csv\")"
   ]
  },
  {
   "cell_type": "code",
   "execution_count": null,
   "metadata": {},
   "outputs": [],
   "source": [
    "df.head(100)"
   ]
  },
  {
   "cell_type": "code",
   "execution_count": null,
   "metadata": {},
   "outputs": [],
   "source": [
    "import matplotlib.pyplot as plt\n",
    "plt.plot(df[[\"R_Ohm\"]], df[[\"Grad_Celsius\"]])\n",
    "plt.scatter(df[[\"R_Ohm\"]], df[[\"Grad_Celsius\"]])"
   ]
  },
  {
   "cell_type": "code",
   "execution_count": null,
   "metadata": {},
   "outputs": [],
   "source": [
    "# Beispiel: Normale, lineare Regression\n",
    "\n",
    "X = df[[\"R_Ohm\"]].values\n",
    "Y = df[[\"Grad_Celsius\"]].values\n",
    "\n",
    "#from sklearn.model_selection import train_test_split\n",
    "\n",
    "#X_train, X_test, y_train, y_test = train_test_split(X, Y, random_state = 42, test_size = 0.25)\n",
    "\n",
    "from sklearn.linear_model import LinearRegression\n",
    "\n",
    "model = LinearRegression()\n",
    "model.fit(X, Y)\n",
    "\n",
    "print(model.score(X, Y))"
   ]
  },
  {
   "cell_type": "code",
   "execution_count": null,
   "metadata": {},
   "outputs": [],
   "source": [
    "model.predict([[50]])"
   ]
  },
  {
   "cell_type": "code",
   "execution_count": null,
   "metadata": {},
   "outputs": [],
   "source": [
    "import matplotlib.pyplot as plt\n",
    "import numpy as np\n",
    "plt.plot(df[[\"R_Ohm\"]], df[[\"Grad_Celsius\"]])\n",
    "plt.scatter(df[[\"R_Ohm\"]], df[[\"Grad_Celsius\"]])\n",
    "\n",
    "values_x = range(15,74)\n",
    "model_x = [[x] for x in values_x]\n",
    "\n",
    "\n",
    "plt.plot(model_x, model.predict( model_x ))"
   ]
  },
  {
   "cell_type": "code",
   "execution_count": null,
   "metadata": {},
   "outputs": [],
   "source": [
    "values_x"
   ]
  },
  {
   "cell_type": "code",
   "execution_count": null,
   "metadata": {},
   "outputs": [],
   "source": [
    "from sklearn.preprocessing import PolynomialFeatures"
   ]
  },
  {
   "cell_type": "code",
   "execution_count": null,
   "metadata": {},
   "outputs": [],
   "source": [
    "pf = PolynomialFeatures(degree = 2, include_bias = False)\n",
    "#include_bias = False  - Wenn das auf True ist, dann gibt es eine zusätzliche Spalte mit einer 1, um den Intercept zu trainieren, falls diser nicht vorhanden wäre.\n",
    "pf.fit(X) #wäre hier strenggenommen nicht nötig, aber andere Prozesse verlangen das später"
   ]
  },
  {
   "cell_type": "code",
   "execution_count": null,
   "metadata": {},
   "outputs": [],
   "source": [
    "pf.transform(X)\n",
    "#erzeugt  jetzt 5 Zahlen pro Example und zwar: x1, x2, x1*x1, X1*x2,  x2*x2   "
   ]
  },
  {
   "cell_type": "code",
   "execution_count": null,
   "metadata": {},
   "outputs": [],
   "source": [
    "#der Bauplan hierfür ist mit\n",
    "pf.powers_\n",
    "#abrufbar. Dort sind die Potenzen der 5 Spalten sichtbar. \n",
    "# width ^ 1 * length ^ 0\n",
    "# width ^ 2 * length ^ 0"
   ]
  },
  {
   "cell_type": "code",
   "execution_count": null,
   "metadata": {},
   "outputs": [],
   "source": [
    "X_transformed = pf.transform(X)\n",
    "#X_test_transformed = pf.transform(X)\n",
    "#X_train_transformed = pf.transform(X_train)[:, [0, 1, 2, 3, 4]]\n",
    "#X_test_transformed = pf.transform(X_test)[:, [0, 1, 2, 3, 4]]\n",
    "# Durch manuelles trial-and-error (Herumprobieren), kann man herausfinden, was hier wirklich\n",
    "# ausschlaggebend ist, um auf R2 = 0,988 zu kommen.\n",
    "#X_train_transformed = pf.transform(X_train)[:, [0, 2]]\n",
    "#X_test_transformed = pf.transform(X_test)[:, [0, 2]]\n"
   ]
  },
  {
   "cell_type": "code",
   "execution_count": null,
   "metadata": {},
   "outputs": [],
   "source": [
    "X_transformed"
   ]
  },
  {
   "cell_type": "code",
   "execution_count": null,
   "metadata": {},
   "outputs": [],
   "source": [
    "Y"
   ]
  },
  {
   "cell_type": "code",
   "execution_count": null,
   "metadata": {},
   "outputs": [],
   "source": [
    "from sklearn.linear_model import LinearRegression\n",
    "\n",
    "model = LinearRegression()\n",
    "model.fit(X_transformed, Y)\n",
    "\n",
    "print(model.score(X_transformed, Y))"
   ]
  },
  {
   "cell_type": "code",
   "execution_count": null,
   "metadata": {},
   "outputs": [],
   "source": [
    "model.coef_"
   ]
  },
  {
   "cell_type": "code",
   "execution_count": null,
   "metadata": {},
   "outputs": [],
   "source": [
    "model.intercept_"
   ]
  },
  {
   "cell_type": "code",
   "execution_count": null,
   "metadata": {},
   "outputs": [],
   "source": [
    "#bei 0 Ohm:\n",
    "model.predict([[33,1089]])"
   ]
  },
  {
   "cell_type": "code",
   "execution_count": null,
   "metadata": {},
   "outputs": [],
   "source": [
    "#bei 20 Ohm:\n",
    "# R = 20  R*R = 400\n",
    "# Formel:\n",
    "# Temp = -1.06129008 * R + 0.00637789 * R * R + 28.82640505\n",
    "model.predict([[20,400]])"
   ]
  },
  {
   "cell_type": "code",
   "execution_count": null,
   "metadata": {},
   "outputs": [],
   "source": [
    "model.predict([[20,400], [30,900]])"
   ]
  },
  {
   "cell_type": "code",
   "execution_count": null,
   "metadata": {},
   "outputs": [],
   "source": [
    "import matplotlib.pyplot as plt\n",
    "import numpy as np\n",
    "plt.plot(df[[\"R_Ohm\"]], df[[\"Grad_Celsius\"]])\n",
    "plt.scatter(df[[\"R_Ohm\"]], df[[\"Grad_Celsius\"]])\n",
    "\n",
    "values_x = range(15,74)\n",
    "model_x = [[x, x*x] for x in values_x]\n",
    "\n",
    "plt.plot(values_x, model.predict( model_x ))"
   ]
  },
  {
   "cell_type": "code",
   "execution_count": null,
   "metadata": {},
   "outputs": [],
   "source": [
    "values_x"
   ]
  },
  {
   "cell_type": "code",
   "execution_count": null,
   "metadata": {},
   "outputs": [],
   "source": [
    "model_x"
   ]
  },
  {
   "cell_type": "code",
   "execution_count": null,
   "metadata": {},
   "outputs": [],
   "source": [
    "[[x, x*x, x*x*x, ] for x in values_x]"
   ]
  },
  {
   "cell_type": "code",
   "execution_count": null,
   "metadata": {},
   "outputs": [],
   "source": []
  }
 ],
 "metadata": {
  "kernelspec": {
   "display_name": "Python 3 (ipykernel)",
   "language": "python",
   "name": "python3"
  },
  "language_info": {
   "codemirror_mode": {
    "name": "ipython",
    "version": 3
   },
   "file_extension": ".py",
   "mimetype": "text/x-python",
   "name": "python",
   "nbconvert_exporter": "python",
   "pygments_lexer": "ipython3",
   "version": "3.9.13"
  }
 },
 "nbformat": 4,
 "nbformat_minor": 2
}

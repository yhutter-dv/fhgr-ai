{
 "cells": [
  {
   "cell_type": "markdown",
   "metadata": {},
   "source": [
    "# Ladezustand und Batteriespannung\n",
    "### Eine weitere Beispielanwendung von Regressionsverfahren\n",
    "<img src=\"LadezustandBatteriespannung.png\">"
   ]
  },
  {
   "cell_type": "code",
   "execution_count": null,
   "metadata": {},
   "outputs": [],
   "source": [
    "import pandas as pd\n",
    "#Daten aus: \n",
    "df = pd.read_csv(\"./batterieladezustand.csv\")"
   ]
  },
  {
   "cell_type": "code",
   "execution_count": null,
   "metadata": {},
   "outputs": [],
   "source": [
    "df"
   ]
  },
  {
   "cell_type": "code",
   "execution_count": null,
   "metadata": {},
   "outputs": [],
   "source": [
    "import matplotlib.pyplot as plt\n",
    "plt.ylim(-20, 100)\n",
    "plt.xlim(9,13)\n",
    "plt.plot(df[[\"Batteriespannung\"]], df[[\"Ladezustand_Prozent\"]])\n",
    "plt.scatter(df[[\"Batteriespannung\"]], df[[\"Ladezustand_Prozent\"]])\n",
    "plt.ylabel(\"Ladezustand der Batterie [%]\")\n",
    "plt.xlabel(\"Batteriespannung [V]\")\n",
    "# Es müssen noch ein paar negativ-Prozentwerte ergänzt werden, sonst funktioniert die Regression nicht so gut"
   ]
  },
  {
   "cell_type": "markdown",
   "metadata": {},
   "source": [
    "### ...dieses Problem kann polynomal gelöst werden:"
   ]
  },
  {
   "cell_type": "code",
   "execution_count": null,
   "metadata": {},
   "outputs": [],
   "source": [
    "X = df[[\"Batteriespannung\"]].values\n",
    "y = df[[\"Ladezustand_Prozent\"]].values"
   ]
  },
  {
   "cell_type": "code",
   "execution_count": null,
   "metadata": {},
   "outputs": [],
   "source": [
    "from sklearn.preprocessing import PolynomialFeatures\n",
    "pf = PolynomialFeatures(degree = 5, include_bias = False)\n",
    "#include_bias = False  - Wenn das auf True ist, dann gibt es eine zusätzliche Spalte mit einer 1, um den Intercept zu trainieren, falls diser nicht vorhanden wäre.\n",
    "pf.fit(X) #wäre hier strenggenommen nicht nötig, aber andere Prozesse verlangen das später\n",
    "pf.transform(X)\n",
    "X_transformed = pf.transform(X)\n",
    "\n",
    "from sklearn.linear_model import LinearRegression\n",
    "model = LinearRegression()\n",
    "model.fit(X_transformed, y)\n",
    "\n",
    "import matplotlib.pyplot as plt\n",
    "import numpy as np\n",
    "import seaborn as sns\n",
    "#sns.set_style(\"whitegrid\", {\"axes.facecolor\": \"#00000000\", \"figure.facecolor\": \"#00000000\"})\n",
    "sns.set_style(\"whitegrid\", {})\n",
    "#sns.set_context(\"notebook\", font_scale=1)\n",
    "plt.ylabel(\"Ladezustand der Batterie [%]\")\n",
    "plt.xlabel(\"Batteriespannung [V]\")\n",
    "plt.ylim(-5, 100)\n",
    "plt.xlim(10.5,12.7)\n",
    "plt.plot(X, y, label='Daten aus Tabelle')\n",
    "plt.scatter(X, y)\n",
    "\n",
    "\n",
    "values_x = [[x] for x in np.linspace(10,13, 1000)]\n",
    "model_x = pf.transform(values_x)\n",
    "#values_x = np.linspace(10,13, 1000) #...oder so\n",
    "#model_x = [[x, x**2, x**3, x**4, x**5 ] for x in values_x] #...oder so\n",
    "\n",
    "plt.plot(values_x, model.predict(  model_x ), label='Modell 1' )\n",
    "plt.legend(loc='upper left')"
   ]
  },
  {
   "cell_type": "markdown",
   "metadata": {},
   "source": [
    "...sieht aus wie die Simulation einer e-Funktion"
   ]
  },
  {
   "cell_type": "code",
   "execution_count": null,
   "metadata": {},
   "outputs": [],
   "source": [
    "#der Bauplan für das Polynom ist:\n",
    "pf.powers_\n",
    "#abrufbar. Dort sind die Potenzen der 5 Spalten sichtbar. "
   ]
  },
  {
   "cell_type": "code",
   "execution_count": null,
   "metadata": {},
   "outputs": [],
   "source": [
    "model.coef_"
   ]
  },
  {
   "cell_type": "code",
   "execution_count": null,
   "metadata": {},
   "outputs": [],
   "source": [
    "model.intercept_"
   ]
  },
  {
   "cell_type": "code",
   "execution_count": null,
   "metadata": {},
   "outputs": [],
   "source": [
    "# Wie gut ist das Modell - Aber Vorsicht, das könnte Overfitting sein, da wir mit den Trainingsdaten evaluieren.\n",
    "model.score(X_transformed, y)"
   ]
  },
  {
   "cell_type": "markdown",
   "metadata": {},
   "source": [
    "### Formel:\n",
    "\n",
    "$$ Ladezustand\\text{[%]} = -2.62383659\\mathrm{e}{+05} \\cdot U \\\\ + 4.78502723\\mathrm{e}{+04} \\cdot U^{2}  \\\\ - 4.34515883\\mathrm{e}{+03} \\cdot U^{3} \\\\ + 1.96429579\\mathrm{e}{+02} \\cdot U^{4} \\\\- 3.53551643 \\cdot U^{5} \\\\ + 573218.6446676$$ \n",
    "\n",
    "...wirkt ziemlich unnatürlich, aufwändig und der Graf sieht aus wie die Simulation einer e-Funktion"
   ]
  },
  {
   "cell_type": "markdown",
   "metadata": {},
   "source": [
    "## Weitere Idee: Einfachere Formel mit einer e-Funktion"
   ]
  },
  {
   "cell_type": "code",
   "execution_count": null,
   "metadata": {},
   "outputs": [],
   "source": [
    "X = df[[\"Batteriespannung\"]]\n",
    "y = df[[\"Ladezustand_Prozent\"]]\n",
    "y = y[0:10]\n",
    "X = X[0:10]\n",
    "# Das was bei Polynomen die PolynomialFeatures erzeugen, machen wir für die e-Funktion selbst:\n",
    "import math\n",
    "X_transformed = [[x, math.exp(x)] for x in X.values.flatten()]"
   ]
  },
  {
   "cell_type": "code",
   "execution_count": null,
   "metadata": {},
   "outputs": [],
   "source": [
    "from sklearn.linear_model import LinearRegression\n",
    "model = LinearRegression()\n",
    "model.fit(X_transformed, y)\n",
    "\n",
    "import matplotlib.pyplot as plt\n",
    "import numpy as np\n",
    "import seaborn as sns\n",
    "sns.set_style(\"whitegrid\", {})\n",
    "plt.ylabel(\"Ladezustand der Batterie [%]\")\n",
    "plt.xlabel(\"Batteriespannung [V]\")\n",
    "plt.ylim(-5, 100)\n",
    "plt.xlim(10.5,12.7)\n",
    "plt.plot(X, y, label='Daten aus Tabelle')\n",
    "plt.scatter(X, y)\n",
    "\n",
    "values_x = np.linspace(10.5,12.7, 1000)\n",
    "model_x = [[x, math.exp(x)] for x in values_x]\n",
    "plt.plot(values_x, model.predict(  model_x ), label='Modell 2')\n",
    "plt.legend(loc='upper left')\n"
   ]
  },
  {
   "cell_type": "code",
   "execution_count": null,
   "metadata": {},
   "outputs": [],
   "source": [
    "# Wie gut ist das Modell??? -  Aber Vorsicht, das könnte Overfitting sein, da wir mit den Trainingsdaten evaluieren.\n",
    "model.score(X_transformed, y.values)"
   ]
  },
  {
   "cell_type": "code",
   "execution_count": null,
   "metadata": {},
   "outputs": [],
   "source": [
    "U = 12.5 #...sollte ca. 80% ergeben:\n",
    "ex_U = math.e ** U\n",
    "model.predict([[U, ex_U] ])"
   ]
  },
  {
   "cell_type": "code",
   "execution_count": null,
   "metadata": {},
   "outputs": [],
   "source": [
    "print('x-Koeffizient, e hoch x - Koeffizient:', model.coef_)\n",
    "print('Achsenabschnitt: ', model.intercept_)"
   ]
  },
  {
   "cell_type": "code",
   "execution_count": null,
   "metadata": {},
   "outputs": [],
   "source": [
    "x = 12.5\n",
    "ladezustand = 176.0417094 - (1.86049197e+01 * x) + (5.01145418e-04 * (math.e ** x) )\n",
    "ladezustand"
   ]
  },
  {
   "cell_type": "code",
   "execution_count": null,
   "metadata": {},
   "outputs": [],
   "source": []
  },
  {
   "cell_type": "code",
   "execution_count": null,
   "metadata": {},
   "outputs": [],
   "source": [
    "U = 12.5\n",
    "ladezustand = 176 - (18.6 * U) + (0.000501 * (math.e ** U) )\n",
    "ladezustand"
   ]
  },
  {
   "cell_type": "markdown",
   "metadata": {},
   "source": [
    "### Formel:\n",
    "\n",
    "$$ Ladezustand\\text{[%]} = 176 - 18.6 \\cdot U + 0.000501 \\cdot e^{U}$$\n",
    "\n",
    "...diese Formel erreicht zwar nicht ganz den R-Wert des obigen Polynoms 5. Grades, aber in Anbetracht des physikalischen Hintergrunds ist diese Formel realistisch"
   ]
  },
  {
   "cell_type": "code",
   "execution_count": null,
   "metadata": {},
   "outputs": [],
   "source": []
  }
 ],
 "metadata": {
  "kernelspec": {
   "display_name": "Python 3 (ipykernel)",
   "language": "python",
   "name": "python3"
  },
  "language_info": {
   "codemirror_mode": {
    "name": "ipython",
    "version": 3
   },
   "file_extension": ".py",
   "mimetype": "text/x-python",
   "name": "python",
   "nbconvert_exporter": "python",
   "pygments_lexer": "ipython3",
   "version": "3.9.13"
  }
 },
 "nbformat": 4,
 "nbformat_minor": 2
}
